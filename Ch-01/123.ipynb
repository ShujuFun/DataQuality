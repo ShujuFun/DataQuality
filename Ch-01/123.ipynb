{
 "cells": [
  {
   "cell_type": "code",
   "execution_count": 3,
   "id": "initial_id",
   "metadata": {
    "collapsed": true,
    "ExecuteTime": {
     "end_time": "2024-03-05T01:30:30.767277Z",
     "start_time": "2024-03-05T01:30:30.754274Z"
    }
   },
   "outputs": [
    {
     "name": "stdout",
     "output_type": "stream",
     "text": [
      "       A  B  C\n",
      "0  88888  4  7\n",
      "1  88888  5  8\n",
      "2  88888  6  9\n"
     ]
    }
   ],
   "source": [
    "import pandas as pd\n",
    "\n",
    "# 创建一个简单的 dataframe\n",
    "data = {'A': [1, 2, 3], 'B': [4, 5, 6], 'C': [7, 8, 9]}\n",
    "df = pd.DataFrame(data)\n",
    "\n",
    "# 创建一个新的 dataframe，其中新的 dataframe 有一个字段发生了变化\n",
    "new_df = df.copy()\n",
    "new_df['A'] = 88888\n",
    "\n",
    "# 打印新的 dataframe\n",
    "print(new_df)\n"
   ]
  },
  {
   "cell_type": "code",
   "outputs": [
    {
     "name": "stdout",
     "output_type": "stream",
     "text": [
      "   A  B  C\n",
      "0  1  4  7\n",
      "1  2  5  8\n",
      "2  3  6  9\n",
      "0  4  7  1\n",
      "1  5  8  2\n",
      "2  6  9  3\n"
     ]
    }
   ],
   "source": [
    "import pandas as pd\n",
    "\n",
    "# 创建 dataframe1\n",
    "data1 = {'A': [1, 2, 3], 'B': [4, 5, 6], 'C': [7, 8, 9]}\n",
    "df1 = pd.DataFrame(data1)\n",
    "\n",
    "# 创建 dataframe2\n",
    "data2 = {'A': [4, 5, 6], 'B': [7, 8, 9], 'C': [1, 2, 3]}\n",
    "df2 = pd.DataFrame(data2)\n",
    "\n",
    "# 合并两个 dataframe\n",
    "df2 = pd.concat([df1, df2])\n",
    "\n",
    "# 打印合并后的 dataframe\n",
    "print(df2)\n"
   ],
   "metadata": {
    "collapsed": false,
    "ExecuteTime": {
     "end_time": "2024-03-05T01:40:27.268933Z",
     "start_time": "2024-03-05T01:40:27.256138Z"
    }
   },
   "id": "504530e67e2c70a0",
   "execution_count": 4
  },
  {
   "cell_type": "code",
   "outputs": [
    {
     "name": "stdout",
     "output_type": "stream",
     "text": [
      "     A  B  C\n",
      "0  one  4  7\n",
      "1    2  5  8\n",
      "2    3  6  9\n"
     ]
    }
   ],
   "source": [
    "import pandas as pd\n",
    "\n",
    "# 创建一个简单的 dataframe\n",
    "data = {'A': [1, 2, 3], 'B': [4, 5, 6], 'C': [7, 8, 9]}\n",
    "df = pd.DataFrame(data)\n",
    "\n",
    "# 替换 dataframe 某一列的字符\n",
    "df['A'] = df['A'].replace(1, 'one')\n",
    "df['B'] = df['B'].replace(2, 'two')\n",
    "df['C'] = df['C'].replace(3, 'three')\n",
    "\n",
    "# 打印替换字符后的 dataframe\n",
    "print(df)\n"
   ],
   "metadata": {
    "collapsed": false,
    "ExecuteTime": {
     "end_time": "2024-03-05T01:49:46.842150Z",
     "start_time": "2024-03-05T01:49:46.722816Z"
    }
   },
   "id": "f6cd1854ec6df620",
   "execution_count": 5
  },
  {
   "cell_type": "code",
   "outputs": [
    {
     "name": "stdout",
     "output_type": "stream",
     "text": [
      "        A           B  C\n",
      "0  oneone  4twotwotwo  7\n",
      "1       2           5  8\n",
      "2       3           6  9\n"
     ]
    }
   ],
   "source": [
    "import pandas as pd\n",
    "\n",
    "# 创建一个简单的 dataframe\n",
    "data = {'A': ['11', '2', '3'], 'B': ['4222', '5', '6'], 'C': ['7', '8', '9']}\n",
    "df = pd.DataFrame(data)\n",
    "\n",
    "# 替换 dataframe 某一列的字符\n",
    "df['A'] = df['A'].apply(lambda x: x.replace('1', 'one'))\n",
    "df['B'] = df['B'].apply(lambda x: x.replace('2', 'two'))\n",
    "df['C'] = df['C'].apply(lambda x: x.replace('3', 'three'))\n",
    "\n",
    "# 打印替换字符后的 dataframe\n",
    "print(df)\n"
   ],
   "metadata": {
    "collapsed": false,
    "ExecuteTime": {
     "end_time": "2024-03-05T01:52:01.862334Z",
     "start_time": "2024-03-05T01:52:01.851081Z"
    }
   },
   "id": "4300c2216e6b90f1",
   "execution_count": 6
  },
  {
   "cell_type": "code",
   "outputs": [],
   "source": [],
   "metadata": {
    "collapsed": false
   },
   "id": "229e49c807fa0c1f"
  }
 ],
 "metadata": {
  "kernelspec": {
   "display_name": "Python 3",
   "language": "python",
   "name": "python3"
  },
  "language_info": {
   "codemirror_mode": {
    "name": "ipython",
    "version": 2
   },
   "file_extension": ".py",
   "mimetype": "text/x-python",
   "name": "python",
   "nbconvert_exporter": "python",
   "pygments_lexer": "ipython2",
   "version": "2.7.6"
  }
 },
 "nbformat": 4,
 "nbformat_minor": 5
}

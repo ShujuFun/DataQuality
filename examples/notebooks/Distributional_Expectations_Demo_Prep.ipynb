{
 "cells": [
  {
   "cell_type": "code",
   "execution_count": 1,
   "metadata": {
    "tags": []
   },
   "outputs": [],
   "source": [
    "import pandas as pd\n",
    "import numpy as np"
   ]
  },
  {
   "cell_type": "code",
   "execution_count": 2,
   "metadata": {},
   "outputs": [],
   "source": [
    "# Dataset from here\n",
    "# https://archive.ics.uci.edu/ml/datasets/Adult\n",
    "\n",
    "\"\"\"\n",
    "age: continuous.\n",
    "workclass: Private, Self-emp-not-inc, Self-emp-inc, Federal-gov, Local-gov, State-gov, Without-pay, Never-worked.\n",
    "fnlwgt: continuous.\n",
    "education: Bachelors, Some-college, 11th, HS-grad, Prof-school, Assoc-acdm, Assoc-voc, 9th, 7th-8th, 12th, Masters, 1st-4th, 10th, Doctorate, 5th-6th, Preschool.\n",
    "education-num: continuous.\n",
    "marital-status: Married-civ-spouse, Divorced, Never-married, Separated, Widowed, Married-spouse-absent, Married-AF-spouse.\n",
    "occupation: Tech-support, Craft-repair, Other-service, Sales, Exec-managerial, Prof-specialty, Handlers-cleaners, Machine-op-inspct, Adm-clerical, Farming-fishing, Transport-moving, Priv-house-serv, Protective-serv, Armed-Forces.\n",
    "relationship: Wife, Own-child, Husband, Not-in-family, Other-relative, Unmarried.\n",
    "race: White, Asian-Pac-Islander, Amer-Indian-Eskimo, Other, Black.\n",
    "sex: Female, Male.\n",
    "capital-gain: continuous.\n",
    "capital-loss: continuous.\n",
    "hours-per-week: continuous.\n",
    "native-country: United-States, Cambodia, England, Puerto-Rico, Canada, Germany, Outlying-US(Guam-USVI-etc), India, Japan, Greece, South, China, Cuba, Iran, Honduras, Philippines, Italy, Poland, Jamaica, Vietnam, Mexico, Portugal, Ireland, France, Dominican-Republic, Laos, Ecuador, Taiwan, Haiti, Columbia, Hungary, Guatemala, Nicaragua, Scotland, Thailand, Yugoslavia, El-Salvador, Trinadad&Tobago, Peru, Hong, Holand-Netherlands.\n",
    "\"\"\"\n",
    "\n",
    "df = pd.read_csv(\n",
    "    \"../data/adult.data\",\n",
    "    names=[\n",
    "        \"age\",\n",
    "        \"workclass\",\n",
    "        \"fnlwgt\",\n",
    "        \"education\",\n",
    "        \"education-num\",\n",
    "        \"marital-status\",\n",
    "        \"occupation\",\n",
    "        \"relationship\",\n",
    "        \"race\",\n",
    "        \"sex\",\n",
    "        \"capital-gain\",\n",
    "        \"capital-loss\",\n",
    "        \"hours-per-week\",\n",
    "        \"native-country\",\n",
    "        \"<=50k\",\n",
    "    ],\n",
    ")"
   ]
  },
  {
   "cell_type": "code",
   "execution_count": 3,
   "metadata": {
    "tags": []
   },
   "outputs": [],
   "source": [
    "splitter = np.random.binomial(1, 0.2, size=len(df))\n",
    "\n",
    "# Take 10% of women and 80% of men\n",
    "biased_splitter = (\n",
    "    np.random.binomial(1, 0.1, size=len(df)) & (df[\"sex\"] == \" Female\")\n",
    ") | (np.random.binomial(1, 0.8, size=len(df)) & (df[\"sex\"] == \" Male\"))"
   ]
  },
  {
   "cell_type": "code",
   "execution_count": 4,
   "metadata": {
    "tags": []
   },
   "outputs": [],
   "source": [
    "df_train = df[splitter == False]\n",
    "df_test = df[splitter == True]\n",
    "df_b_1 = df[biased_splitter == True]\n",
    "b_1_splitter = np.random.binomial(1, 0.2, size=len(df_b_1))\n",
    "df_b_1_train = df_b_1[b_1_splitter == False]\n",
    "df_b_1_test = df_b_1[b_1_splitter == True]\n",
    "df_b_2 = df[biased_splitter == False]\n",
    "b_2_splitter = np.random.binomial(1, 0.2, size=len(df_b_2))\n",
    "df_b_2_train = df_b_2[b_2_splitter == False]\n",
    "df_b_2_test = df_b_2[b_2_splitter == True]"
   ]
  },
  {
   "cell_type": "code",
   "execution_count": 5,
   "metadata": {},
   "outputs": [
    {
     "name": "stdout",
     "output_type": "stream",
     "text": [
      "(26090, 15)\n",
      "(6471, 15)\n",
      "(18377, 15)\n",
      "(14642, 15)\n",
      "(3735, 15)\n",
      "(14184, 15)\n",
      "(11277, 15)\n",
      "(2907, 15)\n"
     ]
    }
   ],
   "source": [
    "print(df_train.shape)\n",
    "print(df_test.shape)\n",
    "print(df_b_1.shape)\n",
    "print(df_b_1_train.shape)\n",
    "print(df_b_1_test.shape)\n",
    "print(df_b_2.shape)\n",
    "print(df_b_2_train.shape)\n",
    "print(df_b_2_test.shape)"
   ]
  },
  {
   "cell_type": "code",
   "execution_count": 6,
   "metadata": {
    "tags": []
   },
   "outputs": [],
   "source": [
    "df_train.to_csv(\"../data/adult.data.train.csv\", index=False)\n",
    "df_test.to_csv(\"../data/adult.data.test.csv\", index=False)\n",
    "df_b_1_train.to_csv(\"../data/adult.data.b_1_train.csv\", index=False)\n",
    "df_b_1_test.to_csv(\"../data/adult.data.b_1_test.csv\", index=False)\n",
    "df_b_2_train.to_csv(\"../data/adult.data.b_2_train.csv\", index=False)\n",
    "df_b_2_test.to_csv(\"../data/adult.data.b_2_test.csv\", index=False)"
   ]
  },
  {
   "cell_type": "code",
   "execution_count": null,
   "metadata": {
    "collapsed": true,
    "jupyter": {
     "outputs_hidden": true
    }
   },
   "outputs": [],
   "source": []
  }
 ],
 "metadata": {
  "kernelspec": {
   "display_name": "Python 3 (ipykernel)",
   "language": "python",
   "name": "python3"
  },
  "language_info": {
   "codemirror_mode": {
    "name": "ipython",
    "version": 3
   },
   "file_extension": ".py",
   "mimetype": "text/x-python",
   "name": "python",
   "nbconvert_exporter": "python",
   "pygments_lexer": "ipython3",
   "version": "3.10.2"
  }
 },
 "nbformat": 4,
 "nbformat_minor": 4
}

{
 "cells": [
  {
   "cell_type": "markdown",
   "metadata": {},
   "source": [
    "## Before using this notebook, please run Distributional_Expectations_Demo_Prep.ipynb"
   ]
  },
  {
   "cell_type": "code",
   "execution_count": 49,
   "metadata": {
    "tags": []
   },
   "outputs": [],
   "source": [
    "# Dataset from here\n",
    "# https://archive.ics.uci.edu/ml/datasets/Adult"
   ]
  },
  {
   "cell_type": "code",
   "execution_count": 50,
   "metadata": {
    "tags": []
   },
   "outputs": [],
   "source": [
    "import great_expectations as gx\n",
    "import matplotlib.pyplot as plt\n",
    "import pandas as pd\n",
    "import numpy as np\n",
    "\n",
    "%matplotlib inline"
   ]
  },
  {
   "cell_type": "code",
   "execution_count": 51,
   "metadata": {
    "tags": []
   },
   "outputs": [],
   "source": [
    "\"\"\"\n",
    "age: continuous.\n",
    "workclass: Private, Self-emp-not-inc, Self-emp-inc, Federal-gov, Local-gov, State-gov, Without-pay, Never-worked.\n",
    "fnlwgt: continuous.\n",
    "education: Bachelors, Some-college, 11th, HS-grad, Prof-school, Assoc-acdm, Assoc-voc, 9th, 7th-8th, 12th, Masters, 1st-4th, 10th, Doctorate, 5th-6th, Preschool.\n",
    "education-num: continuous.\n",
    "marital-status: Married-civ-spouse, Divorced, Never-married, Separated, Widowed, Married-spouse-absent, Married-AF-spouse.\n",
    "occupation: Tech-support, Craft-repair, Other-service, Sales, Exec-managerial, Prof-specialty, Handlers-cleaners, Machine-op-inspct, Adm-clerical, Farming-fishing, Transport-moving, Priv-house-serv, Protective-serv, Armed-Forces.\n",
    "relationship: Wife, Own-child, Husband, Not-in-family, Other-relative, Unmarried.\n",
    "race: White, Asian-Pac-Islander, Amer-Indian-Eskimo, Other, Black.\n",
    "sex: Female, Male.\n",
    "capital-gain: continuous.\n",
    "capital-loss: continuous.\n",
    "hours-per-week: continuous.\n",
    "native-country: United-States, Cambodia, England, Puerto-Rico, Canada, Germany, Outlying-US(Guam-USVI-etc), India, Japan, Greece, South, China, Cuba, Iran, Honduras, Philippines, Italy, Poland, Jamaica, Vietnam, Mexico, Portugal, Ireland, France, Dominican-Republic, Laos, Ecuador, Taiwan, Haiti, Columbia, Hungary, Guatemala, Nicaragua, Scotland, Thailand, Yugoslavia, El-Salvador, Trinadad&Tobago, Peru, Hong, Holand-Netherlands.\n",
    "\"\"\"\n",
    "categorical_columns = [\n",
    "    \"workclass\",\n",
    "    \"education\",\n",
    "    \"marital-status\",\n",
    "    \"occupation\",\n",
    "    \"relationship\",\n",
    "    \"race\",\n",
    "    \"sex\",\n",
    "    \"native-country\",\n",
    "]\n",
    "continuous_columns = [\n",
    "    \"age\",\n",
    "    \"fnlwgt\",\n",
    "    \"education-num\",\n",
    "    \"capital-gain\",\n",
    "    \"capital-loss\",\n",
    "    \"hours-per-week\",\n",
    "]"
   ]
  },
  {
   "cell_type": "code",
   "execution_count": 52,
   "metadata": {},
   "outputs": [
    {
     "data": {
      "text/html": [
       "<div>\n",
       "<style scoped>\n",
       "    .dataframe tbody tr th:only-of-type {\n",
       "        vertical-align: middle;\n",
       "    }\n",
       "\n",
       "    .dataframe tbody tr th {\n",
       "        vertical-align: top;\n",
       "    }\n",
       "\n",
       "    .dataframe thead th {\n",
       "        text-align: right;\n",
       "    }\n",
       "</style>\n",
       "<table border=\"1\" class=\"dataframe\">\n",
       "  <thead>\n",
       "    <tr style=\"text-align: right;\">\n",
       "      <th></th>\n",
       "      <th>age</th>\n",
       "      <th>workclass</th>\n",
       "      <th>fnlwgt</th>\n",
       "      <th>education</th>\n",
       "      <th>education-num</th>\n",
       "      <th>marital-status</th>\n",
       "      <th>occupation</th>\n",
       "      <th>relationship</th>\n",
       "      <th>race</th>\n",
       "      <th>sex</th>\n",
       "      <th>capital-gain</th>\n",
       "      <th>capital-loss</th>\n",
       "      <th>hours-per-week</th>\n",
       "      <th>native-country</th>\n",
       "      <th>&lt;=50k</th>\n",
       "    </tr>\n",
       "  </thead>\n",
       "  <tbody>\n",
       "    <tr>\n",
       "      <th>0</th>\n",
       "      <td>28</td>\n",
       "      <td>Private</td>\n",
       "      <td>338409</td>\n",
       "      <td>Bachelors</td>\n",
       "      <td>13</td>\n",
       "      <td>Married-civ-spouse</td>\n",
       "      <td>Prof-specialty</td>\n",
       "      <td>Wife</td>\n",
       "      <td>Black</td>\n",
       "      <td>Female</td>\n",
       "      <td>0</td>\n",
       "      <td>0</td>\n",
       "      <td>40</td>\n",
       "      <td>Cuba</td>\n",
       "      <td>&lt;=50K</td>\n",
       "    </tr>\n",
       "    <tr>\n",
       "      <th>1</th>\n",
       "      <td>37</td>\n",
       "      <td>Private</td>\n",
       "      <td>284582</td>\n",
       "      <td>Masters</td>\n",
       "      <td>14</td>\n",
       "      <td>Married-civ-spouse</td>\n",
       "      <td>Exec-managerial</td>\n",
       "      <td>Wife</td>\n",
       "      <td>White</td>\n",
       "      <td>Female</td>\n",
       "      <td>0</td>\n",
       "      <td>0</td>\n",
       "      <td>40</td>\n",
       "      <td>United-States</td>\n",
       "      <td>&lt;=50K</td>\n",
       "    </tr>\n",
       "    <tr>\n",
       "      <th>2</th>\n",
       "      <td>49</td>\n",
       "      <td>Private</td>\n",
       "      <td>160187</td>\n",
       "      <td>9th</td>\n",
       "      <td>5</td>\n",
       "      <td>Married-spouse-absent</td>\n",
       "      <td>Other-service</td>\n",
       "      <td>Not-in-family</td>\n",
       "      <td>Black</td>\n",
       "      <td>Female</td>\n",
       "      <td>0</td>\n",
       "      <td>0</td>\n",
       "      <td>16</td>\n",
       "      <td>Jamaica</td>\n",
       "      <td>&lt;=50K</td>\n",
       "    </tr>\n",
       "    <tr>\n",
       "      <th>3</th>\n",
       "      <td>31</td>\n",
       "      <td>Private</td>\n",
       "      <td>45781</td>\n",
       "      <td>Masters</td>\n",
       "      <td>14</td>\n",
       "      <td>Never-married</td>\n",
       "      <td>Prof-specialty</td>\n",
       "      <td>Not-in-family</td>\n",
       "      <td>White</td>\n",
       "      <td>Female</td>\n",
       "      <td>14084</td>\n",
       "      <td>0</td>\n",
       "      <td>50</td>\n",
       "      <td>United-States</td>\n",
       "      <td>&gt;50K</td>\n",
       "    </tr>\n",
       "    <tr>\n",
       "      <th>4</th>\n",
       "      <td>23</td>\n",
       "      <td>Private</td>\n",
       "      <td>122272</td>\n",
       "      <td>Bachelors</td>\n",
       "      <td>13</td>\n",
       "      <td>Never-married</td>\n",
       "      <td>Adm-clerical</td>\n",
       "      <td>Own-child</td>\n",
       "      <td>White</td>\n",
       "      <td>Female</td>\n",
       "      <td>0</td>\n",
       "      <td>0</td>\n",
       "      <td>30</td>\n",
       "      <td>United-States</td>\n",
       "      <td>&lt;=50K</td>\n",
       "    </tr>\n",
       "  </tbody>\n",
       "</table>\n",
       "</div>"
      ],
      "text/plain": [
       "   age workclass  fnlwgt   education  education-num          marital-status  \\\n",
       "0   28   Private  338409   Bachelors             13      Married-civ-spouse   \n",
       "1   37   Private  284582     Masters             14      Married-civ-spouse   \n",
       "2   49   Private  160187         9th              5   Married-spouse-absent   \n",
       "3   31   Private   45781     Masters             14           Never-married   \n",
       "4   23   Private  122272   Bachelors             13           Never-married   \n",
       "\n",
       "         occupation    relationship    race      sex  capital-gain  \\\n",
       "0    Prof-specialty            Wife   Black   Female             0   \n",
       "1   Exec-managerial            Wife   White   Female             0   \n",
       "2     Other-service   Not-in-family   Black   Female             0   \n",
       "3    Prof-specialty   Not-in-family   White   Female         14084   \n",
       "4      Adm-clerical       Own-child   White   Female             0   \n",
       "\n",
       "   capital-loss  hours-per-week  native-country   <=50k  \n",
       "0             0              40            Cuba   <=50K  \n",
       "1             0              40   United-States   <=50K  \n",
       "2             0              16         Jamaica   <=50K  \n",
       "3             0              50   United-States    >50K  \n",
       "4             0              30   United-States   <=50K  "
      ]
     },
     "execution_count": 52,
     "metadata": {},
     "output_type": "execute_result"
    }
   ],
   "source": [
    "df = gx.read_csv(\"../data/adult.data.b_2_train.csv\")\n",
    "df_test = gx.read_csv(\"../data/adult.data.b_2_test.csv\")\n",
    "\n",
    "df.head()"
   ]
  },
  {
   "cell_type": "code",
   "execution_count": 53,
   "metadata": {},
   "outputs": [
    {
     "data": {
      "text/plain": [
       "(11277, 15)"
      ]
     },
     "execution_count": 53,
     "metadata": {},
     "output_type": "execute_result"
    }
   ],
   "source": [
    "df.shape"
   ]
  },
  {
   "cell_type": "code",
   "execution_count": 54,
   "metadata": {},
   "outputs": [
    {
     "data": {
      "text/plain": [
       "{\n",
       "  \"success\": false,\n",
       "  \"meta\": {},\n",
       "  \"result\": {\n",
       "    \"element_count\": 11277,\n",
       "    \"missing_count\": 0,\n",
       "    \"missing_percent\": 0.0,\n",
       "    \"unexpected_count\": 11277,\n",
       "    \"unexpected_percent\": 100.0,\n",
       "    \"unexpected_percent_total\": 100.0,\n",
       "    \"unexpected_percent_nonmissing\": 100.0,\n",
       "    \"partial_unexpected_list\": [\n",
       "      \" Female\",\n",
       "      \" Female\",\n",
       "      \" Female\",\n",
       "      \" Female\",\n",
       "      \" Female\",\n",
       "      \" Male\",\n",
       "      \" Female\",\n",
       "      \" Female\",\n",
       "      \" Female\",\n",
       "      \" Male\",\n",
       "      \" Male\",\n",
       "      \" Male\",\n",
       "      \" Female\",\n",
       "      \" Male\",\n",
       "      \" Male\",\n",
       "      \" Female\",\n",
       "      \" Male\",\n",
       "      \" Female\",\n",
       "      \" Female\",\n",
       "      \" Female\"\n",
       "    ]\n",
       "  },\n",
       "  \"exception_info\": {\n",
       "    \"raised_exception\": false,\n",
       "    \"exception_traceback\": null,\n",
       "    \"exception_message\": null\n",
       "  }\n",
       "}"
      ]
     },
     "execution_count": 54,
     "metadata": {},
     "output_type": "execute_result"
    }
   ],
   "source": [
    "df.expect_column_values_to_be_in_set(\"sex\", [\"Female\", \"Male\"])"
   ]
  },
  {
   "cell_type": "code",
   "execution_count": 55,
   "metadata": {
    "tags": []
   },
   "outputs": [],
   "source": [
    "def strip_spaces(df):\n",
    "    for column in df.columns:\n",
    "        if isinstance(df[column][0], str):\n",
    "            df[column] = df[column].apply(str.strip)\n",
    "\n",
    "\n",
    "strip_spaces(df)\n",
    "strip_spaces(df_test)"
   ]
  },
  {
   "cell_type": "code",
   "execution_count": 56,
   "metadata": {},
   "outputs": [
    {
     "data": {
      "text/plain": [
       "{\n",
       "  \"success\": true,\n",
       "  \"meta\": {},\n",
       "  \"result\": {\n",
       "    \"element_count\": 11277,\n",
       "    \"missing_count\": 0,\n",
       "    \"missing_percent\": 0.0,\n",
       "    \"unexpected_count\": 0,\n",
       "    \"unexpected_percent\": 0.0,\n",
       "    \"unexpected_percent_total\": 0.0,\n",
       "    \"unexpected_percent_nonmissing\": 0.0,\n",
       "    \"partial_unexpected_list\": []\n",
       "  },\n",
       "  \"exception_info\": {\n",
       "    \"raised_exception\": false,\n",
       "    \"exception_traceback\": null,\n",
       "    \"exception_message\": null\n",
       "  }\n",
       "}"
      ]
     },
     "execution_count": 56,
     "metadata": {},
     "output_type": "execute_result"
    }
   ],
   "source": [
    "df.expect_column_values_to_be_in_set(\"sex\", [\"Female\", \"Male\"])"
   ]
  },
  {
   "cell_type": "code",
   "execution_count": 57,
   "metadata": {
    "tags": []
   },
   "outputs": [],
   "source": [
    "df[\"y\"] = df[\"<=50k\"].apply(lambda x: 0 if (x == \"<=50K\") else 1)\n",
    "df_test[\"y\"] = df_test[\"<=50k\"].apply(lambda x: 0 if (x == \"<=50K\") else 1)"
   ]
  },
  {
   "cell_type": "code",
   "execution_count": 58,
   "metadata": {},
   "outputs": [
    {
     "data": {
      "text/plain": [
       "<AxesSubplot:>"
      ]
     },
     "execution_count": 58,
     "metadata": {},
     "output_type": "execute_result"
    },
    {
     "data": {
      "image/png": "[encoded data removed]",
      "text/plain": [
       "<Figure size 432x288 with 1 Axes>"
      ]
     },
     "metadata": {
      "needs_background": "light"
     },
     "output_type": "display_data"
    }
   ],
   "source": [
    "df[\"sex\"].value_counts().plot(kind=\"bar\")"
   ]
  },
  {
   "cell_type": "code",
   "execution_count": 59,
   "metadata": {},
   "outputs": [
    {
     "data": {
      "text/plain": [
       "{\n",
       "  \"success\": true,\n",
       "  \"meta\": {},\n",
       "  \"result\": {\n",
       "    \"observed_value\": 0.9999999999999939,\n",
       "    \"element_count\": 11277,\n",
       "    \"missing_count\": null,\n",
       "    \"missing_percent\": null\n",
       "  },\n",
       "  \"exception_info\": {\n",
       "    \"raised_exception\": false,\n",
       "    \"exception_traceback\": null,\n",
       "    \"exception_message\": null\n",
       "  }\n",
       "}"
      ]
     },
     "execution_count": 59,
     "metadata": {},
     "output_type": "execute_result"
    }
   ],
   "source": [
    "sex_partition = gx.dataset.util.categorical_partition_data(df[\"sex\"])\n",
    "df.expect_column_chisquare_test_p_value_to_be_greater_than(\"sex\", sex_partition)"
   ]
  },
  {
   "cell_type": "code",
   "execution_count": 62,
   "metadata": {},
   "outputs": [
    {
     "data": {
      "text/plain": [
       "{\n",
       "  \"success\": true,\n",
       "  \"meta\": {},\n",
       "  \"result\": {\n",
       "    \"observed_value\": 0.3621447645349992,\n",
       "    \"element_count\": 2907,\n",
       "    \"missing_count\": null,\n",
       "    \"missing_percent\": null\n",
       "  },\n",
       "  \"exception_info\": {\n",
       "    \"raised_exception\": false,\n",
       "    \"exception_traceback\": null,\n",
       "    \"exception_message\": null\n",
       "  }\n",
       "}"
      ]
     },
     "execution_count": 62,
     "metadata": {},
     "output_type": "execute_result"
    }
   ],
   "source": [
    "df_test.expect_column_chisquare_test_p_value_to_be_greater_than(\"sex\", sex_partition)"
   ]
  },
  {
   "cell_type": "code",
   "execution_count": 63,
   "metadata": {},
   "outputs": [
    {
     "data": {
      "text/plain": [
       "(array([2297., 2060., 1958., 2088., 1282.,  823.,  528.,  170.,   53.,\n",
       "          18.]),\n",
       " array([17. , 24.3, 31.6, 38.9, 46.2, 53.5, 60.8, 68.1, 75.4, 82.7, 90. ]),\n",
       " <BarContainer object of 10 artists>)"
      ]
     },
     "execution_count": 63,
     "metadata": {},
     "output_type": "execute_result"
    },
    {
     "data": {
      "image/png": "[encoded data removed]",
      "text/plain": [
       "<Figure size 432x288 with 1 Axes>"
      ]
     },
     "metadata": {
      "needs_background": "light"
     },
     "output_type": "display_data"
    }
   ],
   "source": [
    "plt.hist(df[\"age\"])"
   ]
  },
  {
   "cell_type": "code",
   "execution_count": 64,
   "metadata": {},
   "outputs": [
    {
     "data": {
      "text/plain": [
       "{\n",
       "  \"success\": true,\n",
       "  \"meta\": {},\n",
       "  \"result\": {\n",
       "    \"observed_value\": 0.955044955044955,\n",
       "    \"element_count\": 11277,\n",
       "    \"missing_count\": null,\n",
       "    \"missing_percent\": null\n",
       "  },\n",
       "  \"exception_info\": {\n",
       "    \"raised_exception\": false,\n",
       "    \"exception_traceback\": null,\n",
       "    \"exception_message\": null\n",
       "  }\n",
       "}"
      ]
     },
     "execution_count": 64,
     "metadata": {},
     "output_type": "execute_result"
    }
   ],
   "source": [
    "age_partition = gx.dataset.util.continuous_partition_data(df[\"age\"])\n",
    "df.expect_column_bootstrapped_ks_test_p_value_to_be_greater_than(\"age\", age_partition)"
   ]
  },
  {
   "cell_type": "code",
   "execution_count": 67,
   "metadata": {},
   "outputs": [
    {
     "name": "stdout",
     "output_type": "stream",
     "text": [
      "{\n",
      "  \"expectation_config\": {\n",
      "    \"expectation_type\": \"expect_column_bootstrapped_ks_test_p_value_to_be_greater_than\",\n",
      "    \"kwargs\": {\n",
      "      \"column\": \"age\",\n",
      "      \"partition_object\": {\n",
      "        \"bins\": [\n",
      "          17.0,\n",
      "          18.871794871794872,\n",
      "          20.743589743589745,\n",
      "          22.615384615384613,\n",
      "          24.48717948717949,\n",
      "          26.358974358974358,\n",
      "          28.23076923076923,\n",
      "          30.102564102564102,\n",
      "          31.974358974358974,\n",
      "          33.84615384615385,\n",
      "          35.717948717948715,\n",
      "          37.58974358974359,\n",
      "          39.46153846153846,\n",
      "          41.33333333333333,\n",
      "          43.205128205128204,\n",
      "          45.07692307692308,\n",
      "          46.94871794871795,\n",
      "          48.82051282051282,\n",
      "          50.69230769230769,\n",
      "          52.56410256410256,\n",
      "          54.43589743589744,\n",
      "          56.30769230769231,\n",
      "          58.17948717948718,\n",
      "          60.05128205128205,\n",
      "          61.92307692307692,\n",
      "          63.794871794871796,\n",
      "          65.66666666666666,\n",
      "          67.53846153846155,\n",
      "          69.41025641025641,\n",
      "          71.28205128205128,\n",
      "          73.15384615384616,\n",
      "          75.02564102564102,\n",
      "          76.8974358974359,\n",
      "          78.76923076923077,\n",
      "          80.64102564102564,\n",
      "          82.51282051282051,\n",
      "          84.38461538461539,\n",
      "          86.25641025641026,\n",
      "          88.12820512820512,\n",
      "          90.0\n",
      "        ],\n",
      "        \"weights\": [\n",
      "          0.03582513079719784,\n",
      "          0.05666400638467677,\n",
      "          0.05302828766515917,\n",
      "          0.058171499512281635,\n",
      "          0.0521415270018622,\n",
      "          0.053649020129467054,\n",
      "          0.050634033874257335,\n",
      "          0.026248115633590495,\n",
      "          0.04912654074665248,\n",
      "          0.049569921078300966,\n",
      "          0.05223020306819189,\n",
      "          0.046998315154739734,\n",
      "          0.04974727321096036,\n",
      "          0.04673228695575064,\n",
      "          0.04283054003724395,\n",
      "          0.02154828411811652,\n",
      "          0.03671189146049481,\n",
      "          0.033696905205285094,\n",
      "          0.029883834353108096,\n",
      "          0.024651946439655938,\n",
      "          0.02305577724572138,\n",
      "          0.021016227720138336,\n",
      "          0.017646537199609826,\n",
      "          0.007892169903343087,\n",
      "          0.013301409949454642,\n",
      "          0.012592001418817061,\n",
      "          0.00931098696461825,\n",
      "          0.007182761372705506,\n",
      "          0.004522479382814578,\n",
      "          0.0040790990511660906,\n",
      "          0.0030149862552097187,\n",
      "          0.0015074931276048593,\n",
      "          0.0015961691939345571,\n",
      "          0.0008867606632969762,\n",
      "          0.0007094085306375809,\n",
      "          0.00035470426531879044,\n",
      "          0.00017735213265939522,\n",
      "          0.0,\n",
      "          0.0010641127959563714\n",
      "        ]\n",
      "      },\n",
      "      \"result_format\": \"BASIC\"\n",
      "    },\n",
      "    \"meta\": {}\n",
      "  },\n",
      "  \"success\": true,\n",
      "  \"meta\": {},\n",
      "  \"result\": {\n",
      "    \"observed_value\": 0.9180819180819181,\n",
      "    \"element_count\": 2907,\n",
      "    \"missing_count\": null,\n",
      "    \"missing_percent\": null\n",
      "  },\n",
      "  \"exception_info\": {\n",
      "    \"raised_exception\": false,\n",
      "    \"exception_traceback\": null,\n",
      "    \"exception_message\": null\n",
      "  }\n",
      "}\n"
     ]
    }
   ],
   "source": [
    "out = df_test.expect_column_bootstrapped_ks_test_p_value_to_be_greater_than(\n",
    "    \"age\", age_partition\n",
    ")\n",
    "print(out)"
   ]
  },
  {
   "cell_type": "code",
   "execution_count": 75,
   "metadata": {
    "tags": []
   },
   "outputs": [
    {
     "data": {
      "text/plain": [
       "<AxesSubplot:>"
      ]
     },
     "execution_count": 75,
     "metadata": {},
     "output_type": "execute_result"
    },
    {
     "data": {
      "image/png": "[encoded data removed]",
      "text/plain": [
       "<Figure size 432x288 with 1 Axes>"
      ]
     },
     "metadata": {
      "needs_background": "light"
     },
     "output_type": "display_data"
    }
   ],
   "source": [
    "df[\"<=50k\"].value_counts().plot(kind=\"bar\")"
   ]
  },
  {
   "cell_type": "code",
   "execution_count": 76,
   "metadata": {
    "tags": []
   },
   "outputs": [
    {
     "data": {
      "text/plain": [
       "<AxesSubplot:>"
      ]
     },
     "execution_count": 76,
     "metadata": {},
     "output_type": "execute_result"
    },
    {
     "data": {
      "image/png": "[encoded data removed]",
      "text/plain": [
       "<Figure size 432x288 with 1 Axes>"
      ]
     },
     "metadata": {
      "needs_background": "light"
     },
     "output_type": "display_data"
    }
   ],
   "source": [
    "df[\"education\"].value_counts().plot(kind=\"bar\")"
   ]
  },
  {
   "cell_type": "code",
   "execution_count": 77,
   "metadata": {
    "tags": []
   },
   "outputs": [
    {
     "data": {
      "text/plain": [
       "{\n",
       "  \"success\": true,\n",
       "  \"meta\": {},\n",
       "  \"result\": {\n",
       "    \"observed_value\": 1.0,\n",
       "    \"element_count\": 11277,\n",
       "    \"missing_count\": null,\n",
       "    \"missing_percent\": null\n",
       "  },\n",
       "  \"exception_info\": {\n",
       "    \"raised_exception\": false,\n",
       "    \"exception_traceback\": null,\n",
       "    \"exception_message\": null\n",
       "  }\n",
       "}"
      ]
     },
     "execution_count": 77,
     "metadata": {},
     "output_type": "execute_result"
    }
   ],
   "source": [
    "education_partition = gx.dataset.util.categorical_partition_data(df[\"education\"])\n",
    "df.expect_column_chisquare_test_p_value_to_be_greater_than(\n",
    "    \"education\", education_partition\n",
    ")"
   ]
  },
  {
   "cell_type": "code",
   "execution_count": 78,
   "metadata": {
    "tags": []
   },
   "outputs": [
    {
     "data": {
      "text/plain": [
       "{\n",
       "  \"success\": true,\n",
       "  \"meta\": {},\n",
       "  \"result\": {\n",
       "    \"observed_value\": 0.7106652126298525,\n",
       "    \"element_count\": 2907,\n",
       "    \"missing_count\": null,\n",
       "    \"missing_percent\": null\n",
       "  },\n",
       "  \"exception_info\": {\n",
       "    \"raised_exception\": false,\n",
       "    \"exception_traceback\": null,\n",
       "    \"exception_message\": null\n",
       "  }\n",
       "}"
      ]
     },
     "execution_count": 78,
     "metadata": {},
     "output_type": "execute_result"
    },
    {
     "data": {
      "image/png": "[encoded data removed]",
      "text/plain": [
       "<Figure size 432x288 with 1 Axes>"
      ]
     },
     "metadata": {
      "needs_background": "light"
     },
     "output_type": "display_data"
    }
   ],
   "source": [
    "df_test[\"education\"].value_counts().plot(kind=\"bar\")\n",
    "df_test.expect_column_chisquare_test_p_value_to_be_greater_than(\n",
    "    \"education\", education_partition\n",
    ")"
   ]
  },
  {
   "cell_type": "code",
   "execution_count": 79,
   "metadata": {
    "tags": []
   },
   "outputs": [
    {
     "data": {
      "text/plain": [
       "{\n",
       "  \"success\": true,\n",
       "  \"meta\": {},\n",
       "  \"result\": {\n",
       "    \"observed_value\": 0.0020918978318237927,\n",
       "    \"element_count\": 2907,\n",
       "    \"missing_count\": null,\n",
       "    \"missing_percent\": null\n",
       "  },\n",
       "  \"exception_info\": {\n",
       "    \"raised_exception\": false,\n",
       "    \"exception_traceback\": null,\n",
       "    \"exception_message\": null\n",
       "  }\n",
       "}"
      ]
     },
     "execution_count": 79,
     "metadata": {},
     "output_type": "execute_result"
    }
   ],
   "source": [
    "df_test.expect_column_kl_divergence_to_be_less_than(\n",
    "    \"education\", education_partition, threshold=0.1\n",
    ")"
   ]
  },
  {
   "cell_type": "code",
   "execution_count": 80,
   "metadata": {
    "tags": []
   },
   "outputs": [
    {
     "data": {
      "text/plain": [
       "(array([  71.,  105.,  363.,  310.,  560., 3549., 3282.,  397., 2363.,\n",
       "         277.]),\n",
       " array([ 1. ,  2.5,  4. ,  5.5,  7. ,  8.5, 10. , 11.5, 13. , 14.5, 16. ]),\n",
       " <BarContainer object of 10 artists>)"
      ]
     },
     "execution_count": 80,
     "metadata": {},
     "output_type": "execute_result"
    },
    {
     "data": {
      "image/png": "[encoded data removed]",
      "text/plain": [
       "<Figure size 432x288 with 1 Axes>"
      ]
     },
     "metadata": {
      "needs_background": "light"
     },
     "output_type": "display_data"
    }
   ],
   "source": [
    "plt.hist(df[\"education-num\"])"
   ]
  },
  {
   "cell_type": "code",
   "execution_count": 81,
   "metadata": {
    "tags": []
   },
   "outputs": [
    {
     "data": {
      "text/plain": [
       "{\n",
       "  \"success\": false,\n",
       "  \"meta\": {},\n",
       "  \"result\": {\n",
       "    \"observed_value\": 0.000999000999000999,\n",
       "    \"element_count\": 11277,\n",
       "    \"missing_count\": null,\n",
       "    \"missing_percent\": null\n",
       "  },\n",
       "  \"exception_info\": {\n",
       "    \"raised_exception\": false,\n",
       "    \"exception_traceback\": null,\n",
       "    \"exception_message\": null\n",
       "  }\n",
       "}"
      ]
     },
     "execution_count": 81,
     "metadata": {},
     "output_type": "execute_result"
    }
   ],
   "source": [
    "education_num_partition_auto = gx.dataset.util.continuous_partition_data(\n",
    "    df[\"education-num\"]\n",
    ")\n",
    "df.expect_column_bootstrapped_ks_test_p_value_to_be_greater_than(\n",
    "    \"education-num\", education_num_partition_auto\n",
    ")"
   ]
  },
  {
   "cell_type": "code",
   "execution_count": 82,
   "metadata": {
    "tags": []
   },
   "outputs": [
    {
     "data": {
      "text/plain": [
       "{'bins': array([ 1.        ,  1.26315789,  1.52631579,  1.78947368,  2.05263158,\n",
       "         2.31578947,  2.57894737,  2.84210526,  3.10526316,  3.36842105,\n",
       "         3.63157895,  3.89473684,  4.15789474,  4.42105263,  4.68421053,\n",
       "         4.94736842,  5.21052632,  5.47368421,  5.73684211,  6.        ,\n",
       "         6.26315789,  6.52631579,  6.78947368,  7.05263158,  7.31578947,\n",
       "         7.57894737,  7.84210526,  8.10526316,  8.36842105,  8.63157895,\n",
       "         8.89473684,  9.15789474,  9.42105263,  9.68421053,  9.94736842,\n",
       "        10.21052632, 10.47368421, 10.73684211, 11.        , 11.26315789,\n",
       "        11.52631579, 11.78947368, 12.05263158, 12.31578947, 12.57894737,\n",
       "        12.84210526, 13.10526316, 13.36842105, 13.63157895, 13.89473684,\n",
       "        14.15789474, 14.42105263, 14.68421053, 14.94736842, 15.21052632,\n",
       "        15.47368421, 15.73684211, 16.        ]),\n",
       " 'weights': array([0.00168485, 0.        , 0.        , 0.00461116, 0.        ,\n",
       "        0.        , 0.        , 0.00931099, 0.        , 0.        ,\n",
       "        0.        , 0.01844462, 0.        , 0.        , 0.        ,\n",
       "        0.01374479, 0.        , 0.        , 0.        , 0.02748958,\n",
       "        0.        , 0.        , 0.03591381, 0.        , 0.        ,\n",
       "        0.        , 0.01374479, 0.        , 0.        , 0.        ,\n",
       "        0.31471136, 0.        , 0.        , 0.        , 0.2456327 ,\n",
       "        0.        , 0.        , 0.        , 0.04540215, 0.        ,\n",
       "        0.        , 0.0352044 , 0.        , 0.        , 0.        ,\n",
       "        0.15837545, 0.        , 0.        , 0.        , 0.05116609,\n",
       "        0.        , 0.        , 0.        , 0.01294671, 0.        ,\n",
       "        0.        , 0.01161656])}"
      ]
     },
     "execution_count": 82,
     "metadata": {},
     "output_type": "execute_result"
    }
   ],
   "source": [
    "education_num_partition_auto"
   ]
  },
  {
   "cell_type": "code",
   "execution_count": 83,
   "metadata": {
    "tags": []
   },
   "outputs": [
    {
     "data": {
      "text/plain": [
       "{\n",
       "  \"success\": true,\n",
       "  \"meta\": {},\n",
       "  \"result\": {\n",
       "    \"observed_value\": 1.0,\n",
       "    \"element_count\": 11277,\n",
       "    \"missing_count\": null,\n",
       "    \"missing_percent\": null\n",
       "  },\n",
       "  \"exception_info\": {\n",
       "    \"raised_exception\": false,\n",
       "    \"exception_traceback\": null,\n",
       "    \"exception_message\": null\n",
       "  }\n",
       "}"
      ]
     },
     "execution_count": 83,
     "metadata": {},
     "output_type": "execute_result"
    }
   ],
   "source": [
    "education_num_partition_cat = gx.dataset.util.categorical_partition_data(\n",
    "    df[\"education-num\"]\n",
    ")\n",
    "df.expect_column_chisquare_test_p_value_to_be_greater_than(\n",
    "    \"education-num\", education_num_partition_cat\n",
    ")"
   ]
  },
  {
   "cell_type": "code",
   "execution_count": 84,
   "metadata": {
    "tags": []
   },
   "outputs": [
    {
     "data": {
      "text/plain": [
       "{\n",
       "  \"success\": true,\n",
       "  \"meta\": {},\n",
       "  \"result\": {\n",
       "    \"observed_value\": 0.7106652126298525,\n",
       "    \"element_count\": 2907,\n",
       "    \"missing_count\": null,\n",
       "    \"missing_percent\": null\n",
       "  },\n",
       "  \"exception_info\": {\n",
       "    \"raised_exception\": false,\n",
       "    \"exception_traceback\": null,\n",
       "    \"exception_message\": null\n",
       "  }\n",
       "}"
      ]
     },
     "execution_count": 84,
     "metadata": {},
     "output_type": "execute_result"
    }
   ],
   "source": [
    "df_test.expect_column_chisquare_test_p_value_to_be_greater_than(\n",
    "    \"education-num\", education_num_partition_cat\n",
    ")"
   ]
  },
  {
   "cell_type": "code",
   "execution_count": 85,
   "metadata": {
    "tags": []
   },
   "outputs": [
    {
     "data": {
      "text/plain": [
       "{\n",
       "  \"success\": true,\n",
       "  \"meta\": {},\n",
       "  \"result\": {\n",
       "    \"observed_value\": 0.5774225774225774,\n",
       "    \"element_count\": 11277,\n",
       "    \"missing_count\": null,\n",
       "    \"missing_percent\": null\n",
       "  },\n",
       "  \"exception_info\": {\n",
       "    \"raised_exception\": false,\n",
       "    \"exception_traceback\": null,\n",
       "    \"exception_message\": null\n",
       "  }\n",
       "}"
      ]
     },
     "execution_count": 85,
     "metadata": {},
     "output_type": "execute_result"
    }
   ],
   "source": [
    "education_num_partition = gx.dataset.util.continuous_partition_data(\n",
    "    df[\"education-num\"], bins=\"uniform\", n_bins=10\n",
    ")\n",
    "df.expect_column_bootstrapped_ks_test_p_value_to_be_greater_than(\n",
    "    \"education-num\", education_num_partition\n",
    ")"
   ]
  },
  {
   "cell_type": "code",
   "execution_count": 86,
   "metadata": {
    "tags": []
   },
   "outputs": [],
   "source": [
    "s1 = df[\"education\"][df[\"y\"] == 1].value_counts()\n",
    "s1.name = \"education_y_1\"\n",
    "s2 = df[\"education\"][df[\"y\"] == 0].value_counts()\n",
    "s2.name = \"education_y_0\"\n",
    "plotter = pd.concat([s1, s2], axis=1)"
   ]
  },
  {
   "cell_type": "code",
   "execution_count": 87,
   "metadata": {
    "tags": []
   },
   "outputs": [
    {
     "data": {
      "image/png": "[encoded data removed]",
      "text/plain": [
       "<Figure size 432x288 with 1 Axes>"
      ]
     },
     "metadata": {
      "needs_background": "light"
     },
     "output_type": "display_data"
    }
   ],
   "source": [
    "p1 = plt.bar(range(len(plotter)), plotter[\"education_y_0\"])\n",
    "p2 = plt.bar(\n",
    "    range(len(plotter)), plotter[\"education_y_1\"], bottom=plotter[\"education_y_0\"]\n",
    ")\n",
    "\n",
    "plt.xticks(range(len(plotter)), plotter.index, rotation=\"vertical\")\n",
    "plt.show()"
   ]
  },
  {
   "cell_type": "code",
   "execution_count": 88,
   "metadata": {
    "tags": []
   },
   "outputs": [
    {
     "data": {
      "text/plain": [
       "{\n",
       "  \"expectation_suite_name\": \"default\",\n",
       "  \"data_asset_type\": \"Dataset\",\n",
       "  \"expectations\": [\n",
       "    {\n",
       "      \"expectation_type\": \"expect_column_values_to_be_in_set\",\n",
       "      \"kwargs\": {\n",
       "        \"column\": \"sex\",\n",
       "        \"value_set\": [\n",
       "          \"Female\",\n",
       "          \"Male\"\n",
       "        ]\n",
       "      },\n",
       "      \"meta\": {}\n",
       "    },\n",
       "    {\n",
       "      \"expectation_type\": \"expect_column_chisquare_test_p_value_to_be_greater_than\",\n",
       "      \"kwargs\": {\n",
       "        \"column\": \"sex\",\n",
       "        \"partition_object\": {\n",
       "          \"values\": [\n",
       "            \"Female\",\n",
       "            \"Male\"\n",
       "          ],\n",
       "          \"weights\": [\n",
       "            0.6859980491265407,\n",
       "            0.3140019508734593\n",
       "          ]\n",
       "        }\n",
       "      },\n",
       "      \"meta\": {}\n",
       "    },\n",
       "    {\n",
       "      \"expectation_type\": \"expect_column_bootstrapped_ks_test_p_value_to_be_greater_than\",\n",
       "      \"kwargs\": {\n",
       "        \"column\": \"age\",\n",
       "        \"partition_object\": {\n",
       "          \"bins\": [\n",
       "            17.0,\n",
       "            18.871794871794872,\n",
       "            20.743589743589745,\n",
       "            22.615384615384613,\n",
       "            24.48717948717949,\n",
       "            26.358974358974358,\n",
       "            28.23076923076923,\n",
       "            30.102564102564102,\n",
       "            31.974358974358974,\n",
       "            33.84615384615385,\n",
       "            35.717948717948715,\n",
       "            37.58974358974359,\n",
       "            39.46153846153846,\n",
       "            41.33333333333333,\n",
       "            43.205128205128204,\n",
       "            45.07692307692308,\n",
       "            46.94871794871795,\n",
       "            48.82051282051282,\n",
       "            50.69230769230769,\n",
       "            52.56410256410256,\n",
       "            54.43589743589744,\n",
       "            56.30769230769231,\n",
       "            58.17948717948718,\n",
       "            60.05128205128205,\n",
       "            61.92307692307692,\n",
       "            63.794871794871796,\n",
       "            65.66666666666666,\n",
       "            67.53846153846155,\n",
       "            69.41025641025641,\n",
       "            71.28205128205128,\n",
       "            73.15384615384616,\n",
       "            75.02564102564102,\n",
       "            76.8974358974359,\n",
       "            78.76923076923077,\n",
       "            80.64102564102564,\n",
       "            82.51282051282051,\n",
       "            84.38461538461539,\n",
       "            86.25641025641026,\n",
       "            88.12820512820512,\n",
       "            90.0\n",
       "          ],\n",
       "          \"weights\": [\n",
       "            0.03582513079719784,\n",
       "            0.05666400638467677,\n",
       "            0.05302828766515917,\n",
       "            0.058171499512281635,\n",
       "            0.0521415270018622,\n",
       "            0.053649020129467054,\n",
       "            0.050634033874257335,\n",
       "            0.026248115633590495,\n",
       "            0.04912654074665248,\n",
       "            0.049569921078300966,\n",
       "            0.05223020306819189,\n",
       "            0.046998315154739734,\n",
       "            0.04974727321096036,\n",
       "            0.04673228695575064,\n",
       "            0.04283054003724395,\n",
       "            0.02154828411811652,\n",
       "            0.03671189146049481,\n",
       "            0.033696905205285094,\n",
       "            0.029883834353108096,\n",
       "            0.024651946439655938,\n",
       "            0.02305577724572138,\n",
       "            0.021016227720138336,\n",
       "            0.017646537199609826,\n",
       "            0.007892169903343087,\n",
       "            0.013301409949454642,\n",
       "            0.012592001418817061,\n",
       "            0.00931098696461825,\n",
       "            0.007182761372705506,\n",
       "            0.004522479382814578,\n",
       "            0.0040790990511660906,\n",
       "            0.0030149862552097187,\n",
       "            0.0015074931276048593,\n",
       "            0.0015961691939345571,\n",
       "            0.0008867606632969762,\n",
       "            0.0007094085306375809,\n",
       "            0.00035470426531879044,\n",
       "            0.00017735213265939522,\n",
       "            0.0,\n",
       "            0.0010641127959563714\n",
       "          ]\n",
       "        }\n",
       "      },\n",
       "      \"meta\": {}\n",
       "    },\n",
       "    {\n",
       "      \"expectation_type\": \"expect_column_chisquare_test_p_value_to_be_greater_than\",\n",
       "      \"kwargs\": {\n",
       "        \"column\": \"education\",\n",
       "        \"partition_object\": {\n",
       "          \"values\": [\n",
       "            \"HS-grad\",\n",
       "            \"Some-college\",\n",
       "            \"Bachelors\",\n",
       "            \"Masters\",\n",
       "            \"Assoc-voc\",\n",
       "            \"11th\",\n",
       "            \"Assoc-acdm\",\n",
       "            \"10th\",\n",
       "            \"7th-8th\",\n",
       "            \"9th\",\n",
       "            \"12th\",\n",
       "            \"Prof-school\",\n",
       "            \"Doctorate\",\n",
       "            \"5th-6th\",\n",
       "            \"1st-4th\",\n",
       "            \"Preschool\"\n",
       "          ],\n",
       "          \"weights\": [\n",
       "            0.31471135940409684,\n",
       "            0.2456327037332624,\n",
       "            0.15837545446483994,\n",
       "            0.05116609027223552,\n",
       "            0.045402145960805176,\n",
       "            0.035913806863527534,\n",
       "            0.03520439833288995,\n",
       "            0.02748958056220626,\n",
       "            0.018444621796577104,\n",
       "            0.01374479028110313,\n",
       "            0.01374479028110313,\n",
       "            0.012946705684135851,\n",
       "            0.011616564689190388,\n",
       "            0.00931098696461825,\n",
       "            0.004611155449144276,\n",
       "            0.0016848452602642547\n",
       "          ]\n",
       "        }\n",
       "      },\n",
       "      \"meta\": {}\n",
       "    },\n",
       "    {\n",
       "      \"expectation_type\": \"expect_column_bootstrapped_ks_test_p_value_to_be_greater_than\",\n",
       "      \"kwargs\": {\n",
       "        \"column\": \"education-num\",\n",
       "        \"partition_object\": {\n",
       "          \"bins\": [\n",
       "            1.0,\n",
       "            2.5,\n",
       "            4.0,\n",
       "            5.5,\n",
       "            7.0,\n",
       "            8.5,\n",
       "            10.0,\n",
       "            11.5,\n",
       "            13.0,\n",
       "            14.5,\n",
       "            16.0\n",
       "          ],\n",
       "          \"weights\": [\n",
       "            0.0062960007094085306,\n",
       "            0.00931098696461825,\n",
       "            0.03218941207768023,\n",
       "            0.02748958056220626,\n",
       "            0.04965859714463067,\n",
       "            0.31471135940409684,\n",
       "            0.29103484969406757,\n",
       "            0.03520439833288995,\n",
       "            0.20954154473707545,\n",
       "            0.02456327037332624\n",
       "          ]\n",
       "        }\n",
       "      },\n",
       "      \"meta\": {}\n",
       "    },\n",
       "    {\n",
       "      \"expectation_type\": \"expect_column_chisquare_test_p_value_to_be_greater_than\",\n",
       "      \"kwargs\": {\n",
       "        \"column\": \"education-num\",\n",
       "        \"partition_object\": {\n",
       "          \"values\": [\n",
       "            9,\n",
       "            10,\n",
       "            13,\n",
       "            14,\n",
       "            11,\n",
       "            7,\n",
       "            12,\n",
       "            6,\n",
       "            4,\n",
       "            5,\n",
       "            8,\n",
       "            15,\n",
       "            16,\n",
       "            3,\n",
       "            2,\n",
       "            1\n",
       "          ],\n",
       "          \"weights\": [\n",
       "            0.31471135940409684,\n",
       "            0.2456327037332624,\n",
       "            0.15837545446483994,\n",
       "            0.05116609027223552,\n",
       "            0.045402145960805176,\n",
       "            0.035913806863527534,\n",
       "            0.03520439833288995,\n",
       "            0.02748958056220626,\n",
       "            0.018444621796577104,\n",
       "            0.01374479028110313,\n",
       "            0.01374479028110313,\n",
       "            0.012946705684135851,\n",
       "            0.011616564689190388,\n",
       "            0.00931098696461825,\n",
       "            0.004611155449144276,\n",
       "            0.0016848452602642547\n",
       "          ]\n",
       "        }\n",
       "      },\n",
       "      \"meta\": {}\n",
       "    }\n",
       "  ],\n",
       "  \"ge_cloud_id\": null,\n",
       "  \"meta\": {\n",
       "    \"great_expectations_version\": \"0.14.10\"\n",
       "  }\n",
       "}"
      ]
     },
     "execution_count": 88,
     "metadata": {},
     "output_type": "execute_result"
    }
   ],
   "source": [
    "df.get_expectation_suite()"
   ]
  },
  {
   "cell_type": "code",
   "execution_count": 89,
   "metadata": {
    "tags": []
   },
   "outputs": [],
   "source": [
    "from sklearn.preprocessing import OneHotEncoder, LabelEncoder\n",
    "from sklearn.ensemble import RandomForestClassifier"
   ]
  },
  {
   "cell_type": "code",
   "execution_count": 90,
   "metadata": {
    "tags": []
   },
   "outputs": [],
   "source": [
    "def build_transformer(df_train):\n",
    "    le = {}\n",
    "    ohe = OneHotEncoder()\n",
    "    X_cat = pd.DataFrame()\n",
    "    for cat_column in categorical_columns:\n",
    "        le[cat_column] = LabelEncoder()\n",
    "        X_cat[cat_column + \"_le\"] = le[cat_column].fit_transform(df_train[cat_column])\n",
    "    X_cat = ohe.fit_transform(X_cat)\n",
    "    X_train = np.append(X_cat.toarray(), df_train[continuous_columns], axis=1)\n",
    "    return le, ohe, X_train\n",
    "\n",
    "\n",
    "def apply_transformer(le, ohe, df_test):\n",
    "    X_cat = pd.DataFrame()\n",
    "    for cat_column in categorical_columns:\n",
    "        X_cat[cat_column + \"_le\"] = le[cat_column].transform(df_test[cat_column])\n",
    "    X_cat = ohe.transform(X_cat)\n",
    "    X_test = np.append(X_cat.toarray(), df_test[continuous_columns], axis=1)\n",
    "    return X_test"
   ]
  },
  {
   "cell_type": "code",
   "execution_count": 91,
   "metadata": {
    "tags": []
   },
   "outputs": [],
   "source": [
    "clf = RandomForestClassifier()"
   ]
  },
  {
   "cell_type": "code",
   "execution_count": 92,
   "metadata": {
    "tags": []
   },
   "outputs": [],
   "source": [
    "le, ohe, X_train = build_transformer(df)"
   ]
  },
  {
   "cell_type": "code",
   "execution_count": 93,
   "metadata": {
    "tags": []
   },
   "outputs": [
    {
     "data": {
      "text/plain": [
       "RandomForestClassifier()"
      ]
     },
     "execution_count": 93,
     "metadata": {},
     "output_type": "execute_result"
    }
   ],
   "source": [
    "clf.fit(X_train, df[\"y\"])"
   ]
  },
  {
   "cell_type": "code",
   "execution_count": 94,
   "metadata": {
    "tags": []
   },
   "outputs": [
    {
     "data": {
      "text/plain": [
       "0.9999113239336703"
      ]
     },
     "execution_count": 94,
     "metadata": {},
     "output_type": "execute_result"
    }
   ],
   "source": [
    "clf.score(X_train, df[\"y\"])"
   ]
  },
  {
   "cell_type": "code",
   "execution_count": 95,
   "metadata": {
    "tags": []
   },
   "outputs": [],
   "source": [
    "my_expectations = df.get_expectation_suite()"
   ]
  },
  {
   "cell_type": "code",
   "execution_count": 96,
   "metadata": {
    "tags": []
   },
   "outputs": [
    {
     "data": {
      "text/plain": [
       "{\n",
       "  \"expectation_suite_name\": \"default\",\n",
       "  \"data_asset_type\": \"Dataset\",\n",
       "  \"expectations\": [\n",
       "    {\n",
       "      \"expectation_type\": \"expect_column_values_to_be_in_set\",\n",
       "      \"kwargs\": {\n",
       "        \"column\": \"sex\",\n",
       "        \"value_set\": [\n",
       "          \"Female\",\n",
       "          \"Male\"\n",
       "        ]\n",
       "      },\n",
       "      \"meta\": {}\n",
       "    },\n",
       "    {\n",
       "      \"expectation_type\": \"expect_column_chisquare_test_p_value_to_be_greater_than\",\n",
       "      \"kwargs\": {\n",
       "        \"column\": \"sex\",\n",
       "        \"partition_object\": {\n",
       "          \"values\": [\n",
       "            \"Female\",\n",
       "            \"Male\"\n",
       "          ],\n",
       "          \"weights\": [\n",
       "            0.6859980491265407,\n",
       "            0.3140019508734593\n",
       "          ]\n",
       "        }\n",
       "      },\n",
       "      \"meta\": {}\n",
       "    },\n",
       "    {\n",
       "      \"expectation_type\": \"expect_column_bootstrapped_ks_test_p_value_to_be_greater_than\",\n",
       "      \"kwargs\": {\n",
       "        \"column\": \"age\",\n",
       "        \"partition_object\": {\n",
       "          \"bins\": [\n",
       "            17.0,\n",
       "            18.871794871794872,\n",
       "            20.743589743589745,\n",
       "            22.615384615384613,\n",
       "            24.48717948717949,\n",
       "            26.358974358974358,\n",
       "            28.23076923076923,\n",
       "            30.102564102564102,\n",
       "            31.974358974358974,\n",
       "            33.84615384615385,\n",
       "            35.717948717948715,\n",
       "            37.58974358974359,\n",
       "            39.46153846153846,\n",
       "            41.33333333333333,\n",
       "            43.205128205128204,\n",
       "            45.07692307692308,\n",
       "            46.94871794871795,\n",
       "            48.82051282051282,\n",
       "            50.69230769230769,\n",
       "            52.56410256410256,\n",
       "            54.43589743589744,\n",
       "            56.30769230769231,\n",
       "            58.17948717948718,\n",
       "            60.05128205128205,\n",
       "            61.92307692307692,\n",
       "            63.794871794871796,\n",
       "            65.66666666666666,\n",
       "            67.53846153846155,\n",
       "            69.41025641025641,\n",
       "            71.28205128205128,\n",
       "            73.15384615384616,\n",
       "            75.02564102564102,\n",
       "            76.8974358974359,\n",
       "            78.76923076923077,\n",
       "            80.64102564102564,\n",
       "            82.51282051282051,\n",
       "            84.38461538461539,\n",
       "            86.25641025641026,\n",
       "            88.12820512820512,\n",
       "            90.0\n",
       "          ],\n",
       "          \"weights\": [\n",
       "            0.03582513079719784,\n",
       "            0.05666400638467677,\n",
       "            0.05302828766515917,\n",
       "            0.058171499512281635,\n",
       "            0.0521415270018622,\n",
       "            0.053649020129467054,\n",
       "            0.050634033874257335,\n",
       "            0.026248115633590495,\n",
       "            0.04912654074665248,\n",
       "            0.049569921078300966,\n",
       "            0.05223020306819189,\n",
       "            0.046998315154739734,\n",
       "            0.04974727321096036,\n",
       "            0.04673228695575064,\n",
       "            0.04283054003724395,\n",
       "            0.02154828411811652,\n",
       "            0.03671189146049481,\n",
       "            0.033696905205285094,\n",
       "            0.029883834353108096,\n",
       "            0.024651946439655938,\n",
       "            0.02305577724572138,\n",
       "            0.021016227720138336,\n",
       "            0.017646537199609826,\n",
       "            0.007892169903343087,\n",
       "            0.013301409949454642,\n",
       "            0.012592001418817061,\n",
       "            0.00931098696461825,\n",
       "            0.007182761372705506,\n",
       "            0.004522479382814578,\n",
       "            0.0040790990511660906,\n",
       "            0.0030149862552097187,\n",
       "            0.0015074931276048593,\n",
       "            0.0015961691939345571,\n",
       "            0.0008867606632969762,\n",
       "            0.0007094085306375809,\n",
       "            0.00035470426531879044,\n",
       "            0.00017735213265939522,\n",
       "            0.0,\n",
       "            0.0010641127959563714\n",
       "          ]\n",
       "        }\n",
       "      },\n",
       "      \"meta\": {}\n",
       "    },\n",
       "    {\n",
       "      \"expectation_type\": \"expect_column_chisquare_test_p_value_to_be_greater_than\",\n",
       "      \"kwargs\": {\n",
       "        \"column\": \"education\",\n",
       "        \"partition_object\": {\n",
       "          \"values\": [\n",
       "            \"HS-grad\",\n",
       "            \"Some-college\",\n",
       "            \"Bachelors\",\n",
       "            \"Masters\",\n",
       "            \"Assoc-voc\",\n",
       "            \"11th\",\n",
       "            \"Assoc-acdm\",\n",
       "            \"10th\",\n",
       "            \"7th-8th\",\n",
       "            \"9th\",\n",
       "            \"12th\",\n",
       "            \"Prof-school\",\n",
       "            \"Doctorate\",\n",
       "            \"5th-6th\",\n",
       "            \"1st-4th\",\n",
       "            \"Preschool\"\n",
       "          ],\n",
       "          \"weights\": [\n",
       "            0.31471135940409684,\n",
       "            0.2456327037332624,\n",
       "            0.15837545446483994,\n",
       "            0.05116609027223552,\n",
       "            0.045402145960805176,\n",
       "            0.035913806863527534,\n",
       "            0.03520439833288995,\n",
       "            0.02748958056220626,\n",
       "            0.018444621796577104,\n",
       "            0.01374479028110313,\n",
       "            0.01374479028110313,\n",
       "            0.012946705684135851,\n",
       "            0.011616564689190388,\n",
       "            0.00931098696461825,\n",
       "            0.004611155449144276,\n",
       "            0.0016848452602642547\n",
       "          ]\n",
       "        }\n",
       "      },\n",
       "      \"meta\": {}\n",
       "    },\n",
       "    {\n",
       "      \"expectation_type\": \"expect_column_bootstrapped_ks_test_p_value_to_be_greater_than\",\n",
       "      \"kwargs\": {\n",
       "        \"column\": \"education-num\",\n",
       "        \"partition_object\": {\n",
       "          \"bins\": [\n",
       "            1.0,\n",
       "            2.5,\n",
       "            4.0,\n",
       "            5.5,\n",
       "            7.0,\n",
       "            8.5,\n",
       "            10.0,\n",
       "            11.5,\n",
       "            13.0,\n",
       "            14.5,\n",
       "            16.0\n",
       "          ],\n",
       "          \"weights\": [\n",
       "            0.0062960007094085306,\n",
       "            0.00931098696461825,\n",
       "            0.03218941207768023,\n",
       "            0.02748958056220626,\n",
       "            0.04965859714463067,\n",
       "            0.31471135940409684,\n",
       "            0.29103484969406757,\n",
       "            0.03520439833288995,\n",
       "            0.20954154473707545,\n",
       "            0.02456327037332624\n",
       "          ]\n",
       "        }\n",
       "      },\n",
       "      \"meta\": {}\n",
       "    },\n",
       "    {\n",
       "      \"expectation_type\": \"expect_column_chisquare_test_p_value_to_be_greater_than\",\n",
       "      \"kwargs\": {\n",
       "        \"column\": \"education-num\",\n",
       "        \"partition_object\": {\n",
       "          \"values\": [\n",
       "            9,\n",
       "            10,\n",
       "            13,\n",
       "            14,\n",
       "            11,\n",
       "            7,\n",
       "            12,\n",
       "            6,\n",
       "            4,\n",
       "            5,\n",
       "            8,\n",
       "            15,\n",
       "            16,\n",
       "            3,\n",
       "            2,\n",
       "            1\n",
       "          ],\n",
       "          \"weights\": [\n",
       "            0.31471135940409684,\n",
       "            0.2456327037332624,\n",
       "            0.15837545446483994,\n",
       "            0.05116609027223552,\n",
       "            0.045402145960805176,\n",
       "            0.035913806863527534,\n",
       "            0.03520439833288995,\n",
       "            0.02748958056220626,\n",
       "            0.018444621796577104,\n",
       "            0.01374479028110313,\n",
       "            0.01374479028110313,\n",
       "            0.012946705684135851,\n",
       "            0.011616564689190388,\n",
       "            0.00931098696461825,\n",
       "            0.004611155449144276,\n",
       "            0.0016848452602642547\n",
       "          ]\n",
       "        }\n",
       "      },\n",
       "      \"meta\": {}\n",
       "    }\n",
       "  ],\n",
       "  \"ge_cloud_id\": null,\n",
       "  \"meta\": {\n",
       "    \"great_expectations_version\": \"0.14.10\"\n",
       "  }\n",
       "}"
      ]
     },
     "execution_count": 96,
     "metadata": {},
     "output_type": "execute_result"
    }
   ],
   "source": [
    "my_expectations"
   ]
  },
  {
   "cell_type": "code",
   "execution_count": 97,
   "metadata": {
    "tags": []
   },
   "outputs": [
    {
     "data": {
      "text/plain": [
       "{\n",
       "  \"evaluation_parameters\": {},\n",
       "  \"success\": true,\n",
       "  \"results\": [\n",
       "    {\n",
       "      \"expectation_config\": {\n",
       "        \"expectation_type\": \"expect_column_values_to_be_in_set\",\n",
       "        \"kwargs\": {\n",
       "          \"column\": \"sex\",\n",
       "          \"value_set\": [\n",
       "            \"Female\",\n",
       "            \"Male\"\n",
       "          ]\n",
       "        },\n",
       "        \"meta\": {}\n",
       "      },\n",
       "      \"success\": true,\n",
       "      \"meta\": {},\n",
       "      \"result\": {\n",
       "        \"element_count\": 2907,\n",
       "        \"missing_count\": 0,\n",
       "        \"missing_percent\": 0.0,\n",
       "        \"unexpected_count\": 0,\n",
       "        \"unexpected_percent\": 0.0,\n",
       "        \"unexpected_percent_total\": 0.0,\n",
       "        \"unexpected_percent_nonmissing\": 0.0,\n",
       "        \"partial_unexpected_list\": []\n",
       "      },\n",
       "      \"exception_info\": {\n",
       "        \"raised_exception\": false,\n",
       "        \"exception_message\": null,\n",
       "        \"exception_traceback\": null\n",
       "      }\n",
       "    },\n",
       "    {\n",
       "      \"expectation_config\": {\n",
       "        \"expectation_type\": \"expect_column_chisquare_test_p_value_to_be_greater_than\",\n",
       "        \"kwargs\": {\n",
       "          \"column\": \"sex\",\n",
       "          \"partition_object\": {\n",
       "            \"values\": [\n",
       "              \"Female\",\n",
       "              \"Male\"\n",
       "            ],\n",
       "            \"weights\": [\n",
       "              0.6859980491265407,\n",
       "              0.3140019508734593\n",
       "            ]\n",
       "          }\n",
       "        },\n",
       "        \"meta\": {}\n",
       "      },\n",
       "      \"success\": true,\n",
       "      \"meta\": {},\n",
       "      \"result\": {\n",
       "        \"observed_value\": 0.3621447645349992,\n",
       "        \"element_count\": 2907,\n",
       "        \"missing_count\": null,\n",
       "        \"missing_percent\": null\n",
       "      },\n",
       "      \"exception_info\": {\n",
       "        \"raised_exception\": false,\n",
       "        \"exception_message\": null,\n",
       "        \"exception_traceback\": null\n",
       "      }\n",
       "    },\n",
       "    {\n",
       "      \"expectation_config\": {\n",
       "        \"expectation_type\": \"expect_column_bootstrapped_ks_test_p_value_to_be_greater_than\",\n",
       "        \"kwargs\": {\n",
       "          \"column\": \"age\",\n",
       "          \"partition_object\": {\n",
       "            \"bins\": [\n",
       "              17.0,\n",
       "              18.871794871794872,\n",
       "              20.743589743589745,\n",
       "              22.615384615384613,\n",
       "              24.48717948717949,\n",
       "              26.358974358974358,\n",
       "              28.23076923076923,\n",
       "              30.102564102564102,\n",
       "              31.974358974358974,\n",
       "              33.84615384615385,\n",
       "              35.717948717948715,\n",
       "              37.58974358974359,\n",
       "              39.46153846153846,\n",
       "              41.33333333333333,\n",
       "              43.205128205128204,\n",
       "              45.07692307692308,\n",
       "              46.94871794871795,\n",
       "              48.82051282051282,\n",
       "              50.69230769230769,\n",
       "              52.56410256410256,\n",
       "              54.43589743589744,\n",
       "              56.30769230769231,\n",
       "              58.17948717948718,\n",
       "              60.05128205128205,\n",
       "              61.92307692307692,\n",
       "              63.794871794871796,\n",
       "              65.66666666666666,\n",
       "              67.53846153846155,\n",
       "              69.41025641025641,\n",
       "              71.28205128205128,\n",
       "              73.15384615384616,\n",
       "              75.02564102564102,\n",
       "              76.8974358974359,\n",
       "              78.76923076923077,\n",
       "              80.64102564102564,\n",
       "              82.51282051282051,\n",
       "              84.38461538461539,\n",
       "              86.25641025641026,\n",
       "              88.12820512820512,\n",
       "              90.0\n",
       "            ],\n",
       "            \"weights\": [\n",
       "              0.03582513079719784,\n",
       "              0.05666400638467677,\n",
       "              0.05302828766515917,\n",
       "              0.058171499512281635,\n",
       "              0.0521415270018622,\n",
       "              0.053649020129467054,\n",
       "              0.050634033874257335,\n",
       "              0.026248115633590495,\n",
       "              0.04912654074665248,\n",
       "              0.049569921078300966,\n",
       "              0.05223020306819189,\n",
       "              0.046998315154739734,\n",
       "              0.04974727321096036,\n",
       "              0.04673228695575064,\n",
       "              0.04283054003724395,\n",
       "              0.02154828411811652,\n",
       "              0.03671189146049481,\n",
       "              0.033696905205285094,\n",
       "              0.029883834353108096,\n",
       "              0.024651946439655938,\n",
       "              0.02305577724572138,\n",
       "              0.021016227720138336,\n",
       "              0.017646537199609826,\n",
       "              0.007892169903343087,\n",
       "              0.013301409949454642,\n",
       "              0.012592001418817061,\n",
       "              0.00931098696461825,\n",
       "              0.007182761372705506,\n",
       "              0.004522479382814578,\n",
       "              0.0040790990511660906,\n",
       "              0.0030149862552097187,\n",
       "              0.0015074931276048593,\n",
       "              0.0015961691939345571,\n",
       "              0.0008867606632969762,\n",
       "              0.0007094085306375809,\n",
       "              0.00035470426531879044,\n",
       "              0.00017735213265939522,\n",
       "              0.0,\n",
       "              0.0010641127959563714\n",
       "            ]\n",
       "          }\n",
       "        },\n",
       "        \"meta\": {}\n",
       "      },\n",
       "      \"success\": true,\n",
       "      \"meta\": {},\n",
       "      \"result\": {\n",
       "        \"observed_value\": 0.929070929070929,\n",
       "        \"element_count\": 2907,\n",
       "        \"missing_count\": null,\n",
       "        \"missing_percent\": null\n",
       "      },\n",
       "      \"exception_info\": {\n",
       "        \"raised_exception\": false,\n",
       "        \"exception_message\": null,\n",
       "        \"exception_traceback\": null\n",
       "      }\n",
       "    },\n",
       "    {\n",
       "      \"expectation_config\": {\n",
       "        \"expectation_type\": \"expect_column_chisquare_test_p_value_to_be_greater_than\",\n",
       "        \"kwargs\": {\n",
       "          \"column\": \"education\",\n",
       "          \"partition_object\": {\n",
       "            \"values\": [\n",
       "              \"HS-grad\",\n",
       "              \"Some-college\",\n",
       "              \"Bachelors\",\n",
       "              \"Masters\",\n",
       "              \"Assoc-voc\",\n",
       "              \"11th\",\n",
       "              \"Assoc-acdm\",\n",
       "              \"10th\",\n",
       "              \"7th-8th\",\n",
       "              \"9th\",\n",
       "              \"12th\",\n",
       "              \"Prof-school\",\n",
       "              \"Doctorate\",\n",
       "              \"5th-6th\",\n",
       "              \"1st-4th\",\n",
       "              \"Preschool\"\n",
       "            ],\n",
       "            \"weights\": [\n",
       "              0.31471135940409684,\n",
       "              0.2456327037332624,\n",
       "              0.15837545446483994,\n",
       "              0.05116609027223552,\n",
       "              0.045402145960805176,\n",
       "              0.035913806863527534,\n",
       "              0.03520439833288995,\n",
       "              0.02748958056220626,\n",
       "              0.018444621796577104,\n",
       "              0.01374479028110313,\n",
       "              0.01374479028110313,\n",
       "              0.012946705684135851,\n",
       "              0.011616564689190388,\n",
       "              0.00931098696461825,\n",
       "              0.004611155449144276,\n",
       "              0.0016848452602642547\n",
       "            ]\n",
       "          }\n",
       "        },\n",
       "        \"meta\": {}\n",
       "      },\n",
       "      \"success\": true,\n",
       "      \"meta\": {},\n",
       "      \"result\": {\n",
       "        \"observed_value\": 0.7106652126298525,\n",
       "        \"element_count\": 2907,\n",
       "        \"missing_count\": null,\n",
       "        \"missing_percent\": null\n",
       "      },\n",
       "      \"exception_info\": {\n",
       "        \"raised_exception\": false,\n",
       "        \"exception_message\": null,\n",
       "        \"exception_traceback\": null\n",
       "      }\n",
       "    },\n",
       "    {\n",
       "      \"expectation_config\": {\n",
       "        \"expectation_type\": \"expect_column_bootstrapped_ks_test_p_value_to_be_greater_than\",\n",
       "        \"kwargs\": {\n",
       "          \"column\": \"education-num\",\n",
       "          \"partition_object\": {\n",
       "            \"bins\": [\n",
       "              1.0,\n",
       "              2.5,\n",
       "              4.0,\n",
       "              5.5,\n",
       "              7.0,\n",
       "              8.5,\n",
       "              10.0,\n",
       "              11.5,\n",
       "              13.0,\n",
       "              14.5,\n",
       "              16.0\n",
       "            ],\n",
       "            \"weights\": [\n",
       "              0.0062960007094085306,\n",
       "              0.00931098696461825,\n",
       "              0.03218941207768023,\n",
       "              0.02748958056220626,\n",
       "              0.04965859714463067,\n",
       "              0.31471135940409684,\n",
       "              0.29103484969406757,\n",
       "              0.03520439833288995,\n",
       "              0.20954154473707545,\n",
       "              0.02456327037332624\n",
       "            ]\n",
       "          }\n",
       "        },\n",
       "        \"meta\": {}\n",
       "      },\n",
       "      \"success\": true,\n",
       "      \"meta\": {},\n",
       "      \"result\": {\n",
       "        \"observed_value\": 0.5474525474525475,\n",
       "        \"element_count\": 2907,\n",
       "        \"missing_count\": null,\n",
       "        \"missing_percent\": null\n",
       "      },\n",
       "      \"exception_info\": {\n",
       "        \"raised_exception\": false,\n",
       "        \"exception_message\": null,\n",
       "        \"exception_traceback\": null\n",
       "      }\n",
       "    },\n",
       "    {\n",
       "      \"expectation_config\": {\n",
       "        \"expectation_type\": \"expect_column_chisquare_test_p_value_to_be_greater_than\",\n",
       "        \"kwargs\": {\n",
       "          \"column\": \"education-num\",\n",
       "          \"partition_object\": {\n",
       "            \"values\": [\n",
       "              9,\n",
       "              10,\n",
       "              13,\n",
       "              14,\n",
       "              11,\n",
       "              7,\n",
       "              12,\n",
       "              6,\n",
       "              4,\n",
       "              5,\n",
       "              8,\n",
       "              15,\n",
       "              16,\n",
       "              3,\n",
       "              2,\n",
       "              1\n",
       "            ],\n",
       "            \"weights\": [\n",
       "              0.31471135940409684,\n",
       "              0.2456327037332624,\n",
       "              0.15837545446483994,\n",
       "              0.05116609027223552,\n",
       "              0.045402145960805176,\n",
       "              0.035913806863527534,\n",
       "              0.03520439833288995,\n",
       "              0.02748958056220626,\n",
       "              0.018444621796577104,\n",
       "              0.01374479028110313,\n",
       "              0.01374479028110313,\n",
       "              0.012946705684135851,\n",
       "              0.011616564689190388,\n",
       "              0.00931098696461825,\n",
       "              0.004611155449144276,\n",
       "              0.0016848452602642547\n",
       "            ]\n",
       "          }\n",
       "        },\n",
       "        \"meta\": {}\n",
       "      },\n",
       "      \"success\": true,\n",
       "      \"meta\": {},\n",
       "      \"result\": {\n",
       "        \"observed_value\": 0.7106652126298525,\n",
       "        \"element_count\": 2907,\n",
       "        \"missing_count\": null,\n",
       "        \"missing_percent\": null\n",
       "      },\n",
       "      \"exception_info\": {\n",
       "        \"raised_exception\": false,\n",
       "        \"exception_message\": null,\n",
       "        \"exception_traceback\": null\n",
       "      }\n",
       "    }\n",
       "  ],\n",
       "  \"meta\": {\n",
       "    \"great_expectations_version\": \"0.14.10\",\n",
       "    \"expectation_suite_name\": \"default\",\n",
       "    \"run_id\": {\n",
       "      \"run_name\": null,\n",
       "      \"run_time\": \"2022-03-14T15:29:37.183324+00:00\"\n",
       "    },\n",
       "    \"batch_kwargs\": {\n",
       "      \"ge_batch_id\": \"68be2f6c-a3ab-11ec-9787-ba1b7018965e\"\n",
       "    },\n",
       "    \"batch_markers\": {},\n",
       "    \"batch_parameters\": {},\n",
       "    \"validation_time\": \"20220314T152937.183152Z\",\n",
       "    \"expectation_suite_meta\": {\n",
       "      \"great_expectations_version\": \"0.14.10\"\n",
       "    }\n",
       "  },\n",
       "  \"statistics\": {\n",
       "    \"evaluated_expectations\": 6,\n",
       "    \"successful_expectations\": 6,\n",
       "    \"unsuccessful_expectations\": 0,\n",
       "    \"success_percent\": 100.0\n",
       "  }\n",
       "}"
      ]
     },
     "execution_count": 97,
     "metadata": {},
     "output_type": "execute_result"
    }
   ],
   "source": [
    "results = df_test.validate(expectation_suite=my_expectations)\n",
    "results"
   ]
  },
  {
   "cell_type": "code",
   "execution_count": 98,
   "metadata": {
    "tags": []
   },
   "outputs": [
    {
     "data": {
      "text/plain": [
       "{\n",
       "  \"evaluation_parameters\": {},\n",
       "  \"success\": true,\n",
       "  \"results\": [],\n",
       "  \"meta\": {\n",
       "    \"great_expectations_version\": \"0.14.10\",\n",
       "    \"expectation_suite_name\": \"default\",\n",
       "    \"run_id\": {\n",
       "      \"run_name\": null,\n",
       "      \"run_time\": \"2022-03-14T15:29:38.061238+00:00\"\n",
       "    },\n",
       "    \"batch_kwargs\": {\n",
       "      \"ge_batch_id\": \"68be2f6c-a3ab-11ec-9787-ba1b7018965e\"\n",
       "    },\n",
       "    \"batch_markers\": {},\n",
       "    \"batch_parameters\": {},\n",
       "    \"validation_time\": \"20220314T152938.061214Z\",\n",
       "    \"expectation_suite_meta\": {\n",
       "      \"great_expectations_version\": \"0.14.10\"\n",
       "    }\n",
       "  },\n",
       "  \"statistics\": {\n",
       "    \"evaluated_expectations\": 6,\n",
       "    \"successful_expectations\": 6,\n",
       "    \"unsuccessful_expectations\": 0,\n",
       "    \"success_percent\": 100.0\n",
       "  }\n",
       "}"
      ]
     },
     "execution_count": 98,
     "metadata": {},
     "output_type": "execute_result"
    }
   ],
   "source": [
    "failures = df_test.validate(\n",
    "    expectation_suite=my_expectations, only_return_failures=True\n",
    ")\n",
    "failures"
   ]
  },
  {
   "cell_type": "code",
   "execution_count": 99,
   "metadata": {
    "tags": []
   },
   "outputs": [],
   "source": [
    "X_test = apply_transformer(le, ohe, df_test)"
   ]
  },
  {
   "cell_type": "code",
   "execution_count": 100,
   "metadata": {
    "tags": []
   },
   "outputs": [
    {
     "data": {
      "text/plain": [
       "0.8895768833849329"
      ]
     },
     "execution_count": 100,
     "metadata": {},
     "output_type": "execute_result"
    }
   ],
   "source": [
    "clf.score(X_test, df_test[\"y\"])"
   ]
  },
  {
   "cell_type": "code",
   "execution_count": 101,
   "metadata": {
    "tags": []
   },
   "outputs": [],
   "source": [
    "df_test_2 = gx.read_csv(\"../data/adult.data.b_1_train.csv\")\n",
    "strip_spaces(df_test_2)\n",
    "# df_test_2 = df_test_2[df_test_2['native-country'] != 'Holand-Netherlands']\n",
    "df_test_2[\"y\"] = df_test_2[\"<=50k\"].apply(lambda x: 0 if (x == \"<=50K\") else 1)\n",
    "X_test_2 = apply_transformer(le, ohe, df_test_2)"
   ]
  },
  {
   "cell_type": "code",
   "execution_count": 102,
   "metadata": {
    "tags": []
   },
   "outputs": [
    {
     "data": {
      "text/plain": [
       "0.8252287938806174"
      ]
     },
     "execution_count": 102,
     "metadata": {},
     "output_type": "execute_result"
    }
   ],
   "source": [
    "clf.score(X_test_2, df_test_2[\"y\"])"
   ]
  },
  {
   "cell_type": "code",
   "execution_count": 103,
   "metadata": {
    "tags": []
   },
   "outputs": [],
   "source": [
    "# Health Screening: Preventative Checkup!"
   ]
  },
  {
   "cell_type": "code",
   "execution_count": 106,
   "metadata": {
    "tags": []
   },
   "outputs": [
    {
     "data": {
      "text/plain": [
       "{\n",
       "  \"evaluation_parameters\": {},\n",
       "  \"success\": false,\n",
       "  \"results\": [\n",
       "    {\n",
       "      \"expectation_config\": {\n",
       "        \"expectation_type\": \"expect_column_chisquare_test_p_value_to_be_greater_than\",\n",
       "        \"kwargs\": {\n",
       "          \"column\": \"sex\",\n",
       "          \"partition_object\": {\n",
       "            \"values\": [\n",
       "              \"Female\",\n",
       "              \"Male\"\n",
       "            ],\n",
       "            \"weights\": [\n",
       "              0.6859980491265407,\n",
       "              0.3140019508734593\n",
       "            ]\n",
       "          }\n",
       "        },\n",
       "        \"meta\": {}\n",
       "      },\n",
       "      \"success\": false,\n",
       "      \"meta\": {},\n",
       "      \"result\": {\n",
       "        \"observed_value\": 0.0,\n",
       "        \"element_count\": 14642,\n",
       "        \"missing_count\": null,\n",
       "        \"missing_percent\": null\n",
       "      },\n",
       "      \"exception_info\": {\n",
       "        \"raised_exception\": false,\n",
       "        \"exception_message\": null,\n",
       "        \"exception_traceback\": null\n",
       "      }\n",
       "    },\n",
       "    {\n",
       "      \"expectation_config\": {\n",
       "        \"expectation_type\": \"expect_column_chisquare_test_p_value_to_be_greater_than\",\n",
       "        \"kwargs\": {\n",
       "          \"column\": \"education\",\n",
       "          \"partition_object\": {\n",
       "            \"values\": [\n",
       "              \"HS-grad\",\n",
       "              \"Some-college\",\n",
       "              \"Bachelors\",\n",
       "              \"Masters\",\n",
       "              \"Assoc-voc\",\n",
       "              \"11th\",\n",
       "              \"Assoc-acdm\",\n",
       "              \"10th\",\n",
       "              \"7th-8th\",\n",
       "              \"9th\",\n",
       "              \"12th\",\n",
       "              \"Prof-school\",\n",
       "              \"Doctorate\",\n",
       "              \"5th-6th\",\n",
       "              \"1st-4th\",\n",
       "              \"Preschool\"\n",
       "            ],\n",
       "            \"weights\": [\n",
       "              0.31471135940409684,\n",
       "              0.2456327037332624,\n",
       "              0.15837545446483994,\n",
       "              0.05116609027223552,\n",
       "              0.045402145960805176,\n",
       "              0.035913806863527534,\n",
       "              0.03520439833288995,\n",
       "              0.02748958056220626,\n",
       "              0.018444621796577104,\n",
       "              0.01374479028110313,\n",
       "              0.01374479028110313,\n",
       "              0.012946705684135851,\n",
       "              0.011616564689190388,\n",
       "              0.00931098696461825,\n",
       "              0.004611155449144276,\n",
       "              0.0016848452602642547\n",
       "            ]\n",
       "          }\n",
       "        },\n",
       "        \"meta\": {}\n",
       "      },\n",
       "      \"success\": false,\n",
       "      \"meta\": {},\n",
       "      \"result\": {\n",
       "        \"observed_value\": 3.200023224806597e-39,\n",
       "        \"element_count\": 14642,\n",
       "        \"missing_count\": null,\n",
       "        \"missing_percent\": null\n",
       "      },\n",
       "      \"exception_info\": {\n",
       "        \"raised_exception\": false,\n",
       "        \"exception_message\": null,\n",
       "        \"exception_traceback\": null\n",
       "      }\n",
       "    },\n",
       "    {\n",
       "      \"expectation_config\": {\n",
       "        \"expectation_type\": \"expect_column_chisquare_test_p_value_to_be_greater_than\",\n",
       "        \"kwargs\": {\n",
       "          \"column\": \"education-num\",\n",
       "          \"partition_object\": {\n",
       "            \"values\": [\n",
       "              9,\n",
       "              10,\n",
       "              13,\n",
       "              14,\n",
       "              11,\n",
       "              7,\n",
       "              12,\n",
       "              6,\n",
       "              4,\n",
       "              5,\n",
       "              8,\n",
       "              15,\n",
       "              16,\n",
       "              3,\n",
       "              2,\n",
       "              1\n",
       "            ],\n",
       "            \"weights\": [\n",
       "              0.31471135940409684,\n",
       "              0.2456327037332624,\n",
       "              0.15837545446483994,\n",
       "              0.05116609027223552,\n",
       "              0.045402145960805176,\n",
       "              0.035913806863527534,\n",
       "              0.03520439833288995,\n",
       "              0.02748958056220626,\n",
       "              0.018444621796577104,\n",
       "              0.01374479028110313,\n",
       "              0.01374479028110313,\n",
       "              0.012946705684135851,\n",
       "              0.011616564689190388,\n",
       "              0.00931098696461825,\n",
       "              0.004611155449144276,\n",
       "              0.0016848452602642547\n",
       "            ]\n",
       "          }\n",
       "        },\n",
       "        \"meta\": {}\n",
       "      },\n",
       "      \"success\": false,\n",
       "      \"meta\": {},\n",
       "      \"result\": {\n",
       "        \"observed_value\": 3.200023224806597e-39,\n",
       "        \"element_count\": 14642,\n",
       "        \"missing_count\": null,\n",
       "        \"missing_percent\": null\n",
       "      },\n",
       "      \"exception_info\": {\n",
       "        \"raised_exception\": false,\n",
       "        \"exception_message\": null,\n",
       "        \"exception_traceback\": null\n",
       "      }\n",
       "    }\n",
       "  ],\n",
       "  \"meta\": {\n",
       "    \"great_expectations_version\": \"0.14.10\",\n",
       "    \"expectation_suite_name\": \"default\",\n",
       "    \"run_id\": {\n",
       "      \"run_name\": null,\n",
       "      \"run_time\": \"2022-03-14T15:29:44.610580+00:00\"\n",
       "    },\n",
       "    \"batch_kwargs\": {\n",
       "      \"ge_batch_id\": \"8fdd1fe0-a3ab-11ec-9787-ba1b7018965e\"\n",
       "    },\n",
       "    \"batch_markers\": {},\n",
       "    \"batch_parameters\": {},\n",
       "    \"validation_time\": \"20220314T152944.610305Z\",\n",
       "    \"expectation_suite_meta\": {\n",
       "      \"great_expectations_version\": \"0.14.10\"\n",
       "    }\n",
       "  },\n",
       "  \"statistics\": {\n",
       "    \"evaluated_expectations\": 6,\n",
       "    \"successful_expectations\": 3,\n",
       "    \"unsuccessful_expectations\": 3,\n",
       "    \"success_percent\": 50.0\n",
       "  }\n",
       "}"
      ]
     },
     "execution_count": 106,
     "metadata": {},
     "output_type": "execute_result"
    }
   ],
   "source": [
    "failures = df_test_2.validate(my_expectations, only_return_failures=True)\n",
    "failures"
   ]
  },
  {
   "cell_type": "code",
   "execution_count": 107,
   "metadata": {
    "scrolled": true,
    "tags": []
   },
   "outputs": [
    {
     "data": {
      "text/plain": [
       "<AxesSubplot:>"
      ]
     },
     "execution_count": 107,
     "metadata": {},
     "output_type": "execute_result"
    },
    {
     "data": {
      "image/png": "[encoded data removed]",
      "text/plain": [
       "<Figure size 432x288 with 1 Axes>"
      ]
     },
     "metadata": {
      "needs_background": "light"
     },
     "output_type": "display_data"
    }
   ],
   "source": [
    "df_test_2[\"sex\"].value_counts().plot(kind=\"bar\")"
   ]
  },
  {
   "cell_type": "code",
   "execution_count": 108,
   "metadata": {
    "tags": []
   },
   "outputs": [],
   "source": [
    "df_test_3 = gx.read_csv(\"../data/adult.data.b_1_test.csv\")\n",
    "strip_spaces(df_test_3)\n",
    "# df_test_3 = df_test_3[df_test_3['native-country'] != 'Holand-Netherlands']\n",
    "df_test_3[\"y\"] = df_test_3[\"<=50k\"].apply(lambda x: 0 if (x == \"<=50K\") else 1)\n",
    "X_test_3 = apply_transformer(le, ohe, df_test_3)"
   ]
  },
  {
   "cell_type": "code",
   "execution_count": 109,
   "metadata": {
    "tags": []
   },
   "outputs": [
    {
     "data": {
      "text/plain": [
       "0.8109772423025435"
      ]
     },
     "execution_count": 109,
     "metadata": {},
     "output_type": "execute_result"
    }
   ],
   "source": [
    "clf.score(X_test_3, df_test_3[\"y\"])"
   ]
  },
  {
   "cell_type": "code",
   "execution_count": 110,
   "metadata": {
    "tags": []
   },
   "outputs": [],
   "source": [
    "# What could have gone wrong?\n",
    "#\n",
    "# a. The world changed.\n",
    "# b. New sensor means different data.\n",
    "# c. Bueller? Bueller?\n",
    "# d. Biased sample of the data"
   ]
  },
  {
   "cell_type": "code",
   "execution_count": 112,
   "metadata": {
    "tags": []
   },
   "outputs": [
    {
     "data": {
      "text/plain": [
       "{\n",
       "  \"evaluation_parameters\": {},\n",
       "  \"success\": false,\n",
       "  \"results\": [\n",
       "    {\n",
       "      \"expectation_config\": {\n",
       "        \"expectation_type\": \"expect_column_chisquare_test_p_value_to_be_greater_than\",\n",
       "        \"kwargs\": {\n",
       "          \"column\": \"sex\",\n",
       "          \"partition_object\": {\n",
       "            \"values\": [\n",
       "              \"Female\",\n",
       "              \"Male\"\n",
       "            ],\n",
       "            \"weights\": [\n",
       "              0.6859980491265407,\n",
       "              0.3140019508734593\n",
       "            ]\n",
       "          }\n",
       "        },\n",
       "        \"meta\": {}\n",
       "      },\n",
       "      \"success\": false,\n",
       "      \"meta\": {},\n",
       "      \"result\": {\n",
       "        \"observed_value\": 0.0,\n",
       "        \"element_count\": 14642,\n",
       "        \"missing_count\": null,\n",
       "        \"missing_percent\": null\n",
       "      },\n",
       "      \"exception_info\": {\n",
       "        \"raised_exception\": false,\n",
       "        \"exception_message\": null,\n",
       "        \"exception_traceback\": null\n",
       "      }\n",
       "    },\n",
       "    {\n",
       "      \"expectation_config\": {\n",
       "        \"expectation_type\": \"expect_column_chisquare_test_p_value_to_be_greater_than\",\n",
       "        \"kwargs\": {\n",
       "          \"column\": \"education\",\n",
       "          \"partition_object\": {\n",
       "            \"values\": [\n",
       "              \"HS-grad\",\n",
       "              \"Some-college\",\n",
       "              \"Bachelors\",\n",
       "              \"Masters\",\n",
       "              \"Assoc-voc\",\n",
       "              \"11th\",\n",
       "              \"Assoc-acdm\",\n",
       "              \"10th\",\n",
       "              \"7th-8th\",\n",
       "              \"9th\",\n",
       "              \"12th\",\n",
       "              \"Prof-school\",\n",
       "              \"Doctorate\",\n",
       "              \"5th-6th\",\n",
       "              \"1st-4th\",\n",
       "              \"Preschool\"\n",
       "            ],\n",
       "            \"weights\": [\n",
       "              0.31471135940409684,\n",
       "              0.2456327037332624,\n",
       "              0.15837545446483994,\n",
       "              0.05116609027223552,\n",
       "              0.045402145960805176,\n",
       "              0.035913806863527534,\n",
       "              0.03520439833288995,\n",
       "              0.02748958056220626,\n",
       "              0.018444621796577104,\n",
       "              0.01374479028110313,\n",
       "              0.01374479028110313,\n",
       "              0.012946705684135851,\n",
       "              0.011616564689190388,\n",
       "              0.00931098696461825,\n",
       "              0.004611155449144276,\n",
       "              0.0016848452602642547\n",
       "            ]\n",
       "          }\n",
       "        },\n",
       "        \"meta\": {}\n",
       "      },\n",
       "      \"success\": false,\n",
       "      \"meta\": {},\n",
       "      \"result\": {\n",
       "        \"observed_value\": 3.200023224806597e-39,\n",
       "        \"element_count\": 14642,\n",
       "        \"missing_count\": null,\n",
       "        \"missing_percent\": null\n",
       "      },\n",
       "      \"exception_info\": {\n",
       "        \"raised_exception\": false,\n",
       "        \"exception_message\": null,\n",
       "        \"exception_traceback\": null\n",
       "      }\n",
       "    },\n",
       "    {\n",
       "      \"expectation_config\": {\n",
       "        \"expectation_type\": \"expect_column_chisquare_test_p_value_to_be_greater_than\",\n",
       "        \"kwargs\": {\n",
       "          \"column\": \"education-num\",\n",
       "          \"partition_object\": {\n",
       "            \"values\": [\n",
       "              9,\n",
       "              10,\n",
       "              13,\n",
       "              14,\n",
       "              11,\n",
       "              7,\n",
       "              12,\n",
       "              6,\n",
       "              4,\n",
       "              5,\n",
       "              8,\n",
       "              15,\n",
       "              16,\n",
       "              3,\n",
       "              2,\n",
       "              1\n",
       "            ],\n",
       "            \"weights\": [\n",
       "              0.31471135940409684,\n",
       "              0.2456327037332624,\n",
       "              0.15837545446483994,\n",
       "              0.05116609027223552,\n",
       "              0.045402145960805176,\n",
       "              0.035913806863527534,\n",
       "              0.03520439833288995,\n",
       "              0.02748958056220626,\n",
       "              0.018444621796577104,\n",
       "              0.01374479028110313,\n",
       "              0.01374479028110313,\n",
       "              0.012946705684135851,\n",
       "              0.011616564689190388,\n",
       "              0.00931098696461825,\n",
       "              0.004611155449144276,\n",
       "              0.0016848452602642547\n",
       "            ]\n",
       "          }\n",
       "        },\n",
       "        \"meta\": {}\n",
       "      },\n",
       "      \"success\": false,\n",
       "      \"meta\": {},\n",
       "      \"result\": {\n",
       "        \"observed_value\": 3.200023224806597e-39,\n",
       "        \"element_count\": 14642,\n",
       "        \"missing_count\": null,\n",
       "        \"missing_percent\": null\n",
       "      },\n",
       "      \"exception_info\": {\n",
       "        \"raised_exception\": false,\n",
       "        \"exception_message\": null,\n",
       "        \"exception_traceback\": null\n",
       "      }\n",
       "    }\n",
       "  ],\n",
       "  \"meta\": {\n",
       "    \"great_expectations_version\": \"0.14.10\",\n",
       "    \"expectation_suite_name\": \"default\",\n",
       "    \"run_id\": {\n",
       "      \"run_name\": null,\n",
       "      \"run_time\": \"2022-03-14T15:29:44.610580+00:00\"\n",
       "    },\n",
       "    \"batch_kwargs\": {\n",
       "      \"ge_batch_id\": \"8fdd1fe0-a3ab-11ec-9787-ba1b7018965e\"\n",
       "    },\n",
       "    \"batch_markers\": {},\n",
       "    \"batch_parameters\": {},\n",
       "    \"validation_time\": \"20220314T152944.610305Z\",\n",
       "    \"expectation_suite_meta\": {\n",
       "      \"great_expectations_version\": \"0.14.10\"\n",
       "    }\n",
       "  },\n",
       "  \"statistics\": {\n",
       "    \"evaluated_expectations\": 6,\n",
       "    \"successful_expectations\": 3,\n",
       "    \"unsuccessful_expectations\": 3,\n",
       "    \"success_percent\": 50.0\n",
       "  }\n",
       "}"
      ]
     },
     "execution_count": 112,
     "metadata": {},
     "output_type": "execute_result"
    }
   ],
   "source": [
    "result = df_test_2.validate(my_expectations, only_return_failures=True)\n",
    "failures"
   ]
  }
 ],
 "metadata": {
  "kernelspec": {
   "display_name": "Python 3 (ipykernel)",
   "language": "python",
   "name": "python3"
  },
  "language_info": {
   "codemirror_mode": {
    "name": "ipython",
    "version": 3
   },
   "file_extension": ".py",
   "mimetype": "text/x-python",
   "name": "python",
   "nbconvert_exporter": "python",
   "pygments_lexer": "ipython3",
   "version": "3.10.2"
  }
 },
 "nbformat": 4,
 "nbformat_minor": 4
}

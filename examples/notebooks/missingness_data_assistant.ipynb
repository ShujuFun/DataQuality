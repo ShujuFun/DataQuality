{
 "cells": [
  {
   "cell_type": "code",
   "execution_count": null,
   "metadata": {},
   "outputs": [],
   "source": [
    "\"\"\"Example: How to create an Expectation Suite with the Missingness Data Assistant\n",
    "\n",
    "--documentation--\n",
    "    https://docs.greatexpectations.io/docs/guides/expectations/data_assistants/how_to_create_an_expectation_suite_with_the_missingness_data_assistant\n",
    "\"\"\"\n",
    "import great_expectations as gx\n",
    "\n",
    "context = gx.get_context()"
   ]
  },
  {
   "cell_type": "code",
   "execution_count": null,
   "metadata": {},
   "outputs": [],
   "source": [
    "datasource = context.sources.add_pandas_filesystem(\n",
    "    name=\"my_custom_datasource_name\",  # custom name to assign to new datasource, can be used to retrieve datasource later\n",
    "    base_directory=\"../../tests/test_sets/taxi_yellow_tripdata_samples/\",  # replace with your data directory\n",
    ")"
   ]
  },
  {
   "cell_type": "code",
   "execution_count": null,
   "metadata": {},
   "outputs": [],
   "source": [
    "asset = datasource.add_csv_asset(\n",
    "    \"my_custom_asset_name\",  # custom name to assign to the asset, can be used to retrieve asset later\n",
    "    batching_regex=r\"yellow_tripdata_sample_(?P<year>\\d{4})-(?P<month>\\d{2})\\.csv\",\n",
    ")"
   ]
  },
  {
   "cell_type": "code",
   "execution_count": null,
   "metadata": {},
   "outputs": [],
   "source": [
    "batch_request = asset.build_batch_request()"
   ]
  },
  {
   "cell_type": "code",
   "execution_count": null,
   "metadata": {},
   "outputs": [],
   "source": [
    "# Run the Missingness Assistant\n",
    "\n",
    "exclude_column_names = [\n",
    "    \"VendorID\",\n",
    "    \"store_and_fwd_flag\",\n",
    "    \"pickup_datetime\",\n",
    "    \"dropoff_datetime\",\n",
    "    \"RatecodeID\",\n",
    "    \"PULocationID\",\n",
    "    \"DOLocationID\",\n",
    "    \"payment_type\",\n",
    "    \"fare_amount\",\n",
    "    \"extra\",\n",
    "    \"mta_tax\",\n",
    "    \"tip_amount\",\n",
    "    \"tolls_amount\",\n",
    "    \"improvement_surcharge\",\n",
    "]\n",
    "\n",
    "data_assistant_result = context.assistants.missingness.run(\n",
    "    batch_request=batch_request,\n",
    "    exclude_column_names=exclude_column_names,\n",
    ")"
   ]
  },
  {
   "cell_type": "code",
   "execution_count": null,
   "metadata": {},
   "outputs": [],
   "source": [
    "# View generated expectations\n",
    "\n",
    "data_assistant_result.show_expectations_by_expectation_type()"
   ]
  },
  {
   "cell_type": "code",
   "execution_count": null,
   "metadata": {},
   "outputs": [],
   "source": [
    "# To view the metrics that were computed and used to generate expectations, you can use the `plot_metrics` method:\n",
    "\n",
    "data_assistant_result.plot_metrics()"
   ]
  },
  {
   "cell_type": "code",
   "execution_count": null,
   "metadata": {},
   "outputs": [],
   "source": [
    "validator.expectation_suite = data_assistant_result.get_expectation_suite(\n",
    "    expectation_suite_name=\"my_custom_expectation_suite_name\"  # Your custom name here\n",
    ")\n",
    "validator.save_expectation_suite(discard_failed_expectations=False)"
   ]
  },
  {
   "cell_type": "code",
   "execution_count": null,
   "metadata": {},
   "outputs": [],
   "source": [
    "# Use a Checkpoint to verify that your new Expectation Suite works.\n",
    "checkpoint = context.add_or_update_checkpoint(\n",
    "    name=\"yellow_tripdata_sample_all_years_checkpoint\",\n",
    "    batch_request=batch_request,\n",
    "    expectation_suite_name=\"my_custom_expectation_suite_name\",\n",
    ")\n",
    "checkpoint_result = checkpoint.run(run_name=\"my_run_name\")\n",
    "\n",
    "assert checkpoint_result[\"success\"] is True"
   ]
  },
  {
   "cell_type": "code",
   "execution_count": null,
   "metadata": {},
   "outputs": [],
   "source": [
    "context.build_data_docs()"
   ]
  },
  {
   "cell_type": "code",
   "execution_count": null,
   "metadata": {},
   "outputs": [],
   "source": [
    "context.open_data_docs()"
   ]
  }
 ],
 "metadata": {
  "kernelspec": {
   "display_name": "gx_dev",
   "language": "python",
   "name": "python3"
  },
  "language_info": {
   "codemirror_mode": {
    "name": "ipython",
    "version": 3
   },
   "file_extension": ".py",
   "mimetype": "text/x-python",
   "name": "python",
   "nbconvert_exporter": "python",
   "pygments_lexer": "ipython3",
   "version": "3.9.6"
  },
  "orig_nbformat": 4
 },
 "nbformat": 4,
 "nbformat_minor": 2
}

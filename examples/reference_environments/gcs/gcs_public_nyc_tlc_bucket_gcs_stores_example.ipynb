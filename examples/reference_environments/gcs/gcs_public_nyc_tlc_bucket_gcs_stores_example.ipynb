{
 "cells": [
  {
   "cell_type": "code",
   "execution_count": null,
   "id": "a4e14978",
   "metadata": {},
   "outputs": [],
   "source": [
    "import os\n",
    "\n",
    "import great_expectations as gx\n",
    "\n",
    "context = gx.get_context()"
   ]
  },
  {
   "cell_type": "code",
   "execution_count": null,
   "outputs": [],
   "source": [
    "project_name = os.getenv(\"GCP_PROJECT_NAME\")"
   ],
   "metadata": {
    "collapsed": false
   }
  },
  {
   "cell_type": "code",
   "execution_count": null,
   "outputs": [],
   "source": [
    "# Note: To use GCS as a metadata store, set the GCS_METADATA_STORES_BUCKET_NAME environment variable to the name of your bucket.\n",
    "# Alternatively, you can override the metadata_stores_bucket_name variable with the name of your bucket.\n",
    "metadata_stores_bucket_name = os.getenv(\"GCS_METADATA_STORES_BUCKET_NAME\")"
   ],
   "metadata": {
    "collapsed": false
   }
  },
  {
   "cell_type": "code",
   "execution_count": null,
   "outputs": [],
   "source": [
    "# Set up metadata stores\n",
    "if metadata_stores_bucket_name:\n",
    "    expectations_store_name = \"gcs_expectations_store\"\n",
    "    validations_store_name = \"gcs_validations_store\"\n",
    "    context.add_store(\n",
    "        expectations_store_name,\n",
    "        {\n",
    "            \"class_name\": \"ExpectationsStore\",\n",
    "            \"store_backend\": {\n",
    "                \"class_name\": \"TupleGCSStoreBackend\",\n",
    "                \"project\": project_name,\n",
    "                \"bucket\": metadata_stores_bucket_name,\n",
    "                \"prefix\": \"expectations\",\n",
    "            },\n",
    "        },\n",
    "    )\n",
    "    context.add_store(\n",
    "        validations_store_name,\n",
    "        {\n",
    "            \"class_name\": \"ValidationsStore\",\n",
    "            \"store_backend\": {\n",
    "                \"class_name\": \"TupleGCSStoreBackend\",\n",
    "                \"project\": project_name,\n",
    "                \"bucket\": metadata_stores_bucket_name,\n",
    "                \"prefix\": \"validations\",\n",
    "            },\n",
    "        },\n",
    "    )\n",
    "    # Set these stores as the active stores\n",
    "    context.expectations_store_name = expectations_store_name\n",
    "    context.validations_store_name = validations_store_name\n",
    "else:\n",
    "    print(\n",
    "        \"No bucket name provided for metadata stores, reverting to local file based storage.\"\n",
    "    )"
   ],
   "metadata": {
    "collapsed": false
   }
  },
  {
   "cell_type": "code",
   "execution_count": null,
   "outputs": [],
   "source": [
    "# Set up data docs site\n",
    "if metadata_stores_bucket_name:\n",
    "    new_site_name = \"gcs_site\"\n",
    "    new_site_config = {\n",
    "        \"class_name\": \"SiteBuilder\",\n",
    "        \"store_backend\": {\n",
    "            \"class_name\": \"TupleGCSStoreBackend\",\n",
    "            \"project\": project_name,\n",
    "            \"bucket\": metadata_stores_bucket_name,\n",
    "            \"prefix\": \"data_docs\",\n",
    "        },\n",
    "        \"site_index_builder\": {\"class_name\": \"DefaultSiteIndexBuilder\"},\n",
    "    }\n",
    "\n",
    "    context.add_data_docs_site(new_site_name, new_site_config)\n",
    "\n",
    "else:\n",
    "    print(\n",
    "        \"No bucket name provided for data docs site stores, reverting to local file based storage.\"\n",
    "    )"
   ],
   "metadata": {
    "collapsed": false
   }
  },
  {
   "cell_type": "code",
   "execution_count": null,
   "outputs": [],
   "source": [
    "# Explicitly create data docs site to use filesystem store with known file location.\n",
    "# This is done to simplify hosting data docs within the containers, the default is to write to a temp directory.\n",
    "\n",
    "context.add_data_docs_site(\n",
    "    site_config={\n",
    "        \"class_name\": \"SiteBuilder\",\n",
    "        \"store_backend\": {\n",
    "            \"class_name\": \"TupleFilesystemStoreBackend\",\n",
    "            \"base_directory\": \"/gx/gx_stores/data_docs\",\n",
    "        },\n",
    "        \"site_index_builder\": {\"class_name\": \"DefaultSiteIndexBuilder\"},\n",
    "    },\n",
    "    site_name=\"local_site_for_hosting\",\n",
    ")"
   ],
   "metadata": {
    "collapsed": false
   }
  },
  {
   "cell_type": "code",
   "execution_count": null,
   "outputs": [],
   "source": [
    "datasource_name = \"pandas_gcs_example\"\n",
    "bucket_name_with_data_to_validate = \"taxi_reference_data\"\n",
    "datasource = context.sources.add_pandas_gcs(\n",
    "    name=\"gcs_datasource\", bucket_or_name=bucket_name_with_data_to_validate\n",
    ")"
   ],
   "metadata": {
    "collapsed": false
   }
  },
  {
   "cell_type": "code",
   "execution_count": null,
   "id": "29b4ba0b",
   "metadata": {},
   "outputs": [],
   "source": [
    "batching_regex = r\"yellow_tripdata_sample_(?P<year>\\d{4})-(?P<month>\\d{2})\\.csv\"\n",
    "gcs_prefix = \"data/\"\n",
    "data_asset = datasource.add_csv_asset(\n",
    "    name=\"csv_taxi_gcs_asset\", batching_regex=batching_regex, gcs_prefix=gcs_prefix\n",
    ")"
   ]
  },
  {
   "cell_type": "code",
   "execution_count": null,
   "outputs": [],
   "source": [
    "print(\"data_asset.batch_request_options:\", data_asset.batch_request_options)"
   ],
   "metadata": {
    "collapsed": false
   }
  },
  {
   "cell_type": "code",
   "execution_count": null,
   "outputs": [],
   "source": [
    "batch_request = data_asset.build_batch_request(options={\"month\": \"02\"})"
   ],
   "metadata": {
    "collapsed": false
   }
  },
  {
   "cell_type": "code",
   "execution_count": null,
   "outputs": [],
   "source": [
    "batches = data_asset.get_batch_list_from_batch_request(batch_request)\n",
    "print(\"len(batches):\", len(batches))"
   ],
   "metadata": {
    "collapsed": false
   }
  },
  {
   "cell_type": "code",
   "execution_count": null,
   "outputs": [],
   "source": [
    "for idx, batch in enumerate(batches):\n",
    "    print(f\"batch.batch_spec {idx + 1}:\", batch.batch_spec)"
   ],
   "metadata": {
    "collapsed": false
   }
  },
  {
   "cell_type": "code",
   "execution_count": null,
   "id": "653a6e2f",
   "metadata": {},
   "outputs": [],
   "source": [
    "expectation_suite_name = \"test_gcs_suite\"\n",
    "context.add_or_update_expectation_suite(expectation_suite_name=expectation_suite_name)"
   ]
  },
  {
   "cell_type": "code",
   "execution_count": null,
   "id": "91234c8d",
   "metadata": {},
   "outputs": [],
   "source": [
    "validator = context.get_validator(\n",
    "    batch_request=batch_request,\n",
    "    expectation_suite_name=expectation_suite_name,\n",
    ")\n",
    "validator.head()"
   ]
  },
  {
   "cell_type": "code",
   "execution_count": null,
   "outputs": [],
   "source": [
    "print(\"columns:\", validator.active_batch.data.dataframe.columns)"
   ],
   "metadata": {
    "collapsed": false
   }
  },
  {
   "cell_type": "code",
   "execution_count": null,
   "id": "f46b4a5e",
   "metadata": {},
   "outputs": [],
   "source": [
    "validator.expect_column_values_to_not_be_null(\"pickup_datetime\")\n",
    "validator.expect_column_values_to_be_between(\"passenger_count\", auto=True)"
   ]
  },
  {
   "cell_type": "code",
   "execution_count": null,
   "id": "88d4c39a",
   "metadata": {},
   "outputs": [],
   "source": [
    "validator.save_expectation_suite(discard_failed_expectations=False)"
   ]
  },
  {
   "cell_type": "code",
   "execution_count": null,
   "id": "ef6f54d3",
   "metadata": {},
   "outputs": [],
   "source": [
    "checkpoint = context.add_or_update_checkpoint(\n",
    "    name=\"my_quickstart_checkpoint\",\n",
    "    validator=validator,\n",
    ")"
   ]
  },
  {
   "cell_type": "code",
   "execution_count": null,
   "id": "51543201",
   "metadata": {},
   "outputs": [],
   "source": [
    "checkpoint_result = checkpoint.run()"
   ]
  },
  {
   "cell_type": "code",
   "execution_count": null,
   "id": "f9fc8516",
   "metadata": {},
   "outputs": [],
   "source": [
    "checkpoint_result.success"
   ]
  }
 ],
 "metadata": {
  "kernelspec": {
   "display_name": "Python 3 (ipykernel)",
   "language": "python",
   "name": "python3"
  },
  "language_info": {
   "codemirror_mode": {
    "name": "ipython",
    "version": 3
   },
   "file_extension": ".py",
   "mimetype": "text/x-python",
   "name": "python",
   "nbconvert_exporter": "python",
   "pygments_lexer": "ipython3",
   "version": "3.8.16"
  }
 },
 "nbformat": 4,
 "nbformat_minor": 5
}

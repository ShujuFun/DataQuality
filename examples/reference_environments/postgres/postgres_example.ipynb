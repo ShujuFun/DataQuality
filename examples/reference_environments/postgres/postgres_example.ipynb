{
 "cells": [
  {
   "cell_type": "code",
   "execution_count": null,
   "id": "a4e14978",
   "metadata": {},
   "outputs": [],
   "source": [
    "import great_expectations as gx\n",
    "\n",
    "context = gx.get_context()"
   ]
  },
  {
   "cell_type": "code",
   "execution_count": null,
   "id": "a7b2a460",
   "metadata": {},
   "outputs": [],
   "source": [
    "import os\n",
    "\n",
    "my_connection_string = os.getenv(\n",
    "    \"CONNECTION_STRING\", \"postgresql://example_user@db/gx_example_db\"\n",
    ")"
   ]
  },
  {
   "cell_type": "code",
   "execution_count": null,
   "outputs": [],
   "source": [
    "# Explicitly create data docs site to use filesystem store with known file location.\n",
    "# This is done to simplify hosting data docs within the containers, the default is to write to a temp directory.\n",
    "\n",
    "context.add_data_docs_site(\n",
    "    site_config={\n",
    "        \"class_name\": \"SiteBuilder\",\n",
    "        \"store_backend\": {\n",
    "            \"class_name\": \"TupleFilesystemStoreBackend\",\n",
    "            \"base_directory\": \"/gx/gx_stores/data_docs\",\n",
    "        },\n",
    "        \"site_index_builder\": {\"class_name\": \"DefaultSiteIndexBuilder\"},\n",
    "    },\n",
    "    site_name=\"local_site_for_hosting\",\n",
    ")"
   ],
   "metadata": {
    "collapsed": false
   }
  },
  {
   "cell_type": "code",
   "execution_count": null,
   "id": "bb7e779c",
   "metadata": {},
   "outputs": [],
   "source": [
    "datasource_name = \"my_datasource\"\n",
    "datasource = context.sources.add_sql(\n",
    "    name=datasource_name, connection_string=my_connection_string\n",
    ")"
   ]
  },
  {
   "cell_type": "code",
   "execution_count": null,
   "id": "29b4ba0b",
   "metadata": {},
   "outputs": [],
   "source": [
    "asset_name = \"my_asset\"\n",
    "asset_table_name = \"nyc_taxi_data\""
   ]
  },
  {
   "cell_type": "code",
   "execution_count": null,
   "id": "911e6bac",
   "metadata": {},
   "outputs": [],
   "source": [
    "table_asset = datasource.add_table_asset(name=asset_name, table_name=asset_table_name)"
   ]
  },
  {
   "cell_type": "code",
   "execution_count": null,
   "id": "795951b9",
   "metadata": {},
   "outputs": [],
   "source": [
    "batch_request = table_asset.build_batch_request()"
   ]
  },
  {
   "cell_type": "code",
   "execution_count": null,
   "id": "653a6e2f",
   "metadata": {},
   "outputs": [],
   "source": [
    "expectation_suite_name = \"my_expectation_suite\"\n",
    "context.add_or_update_expectation_suite(expectation_suite_name=expectation_suite_name)"
   ]
  },
  {
   "cell_type": "code",
   "execution_count": null,
   "id": "91234c8d",
   "metadata": {},
   "outputs": [],
   "source": [
    "validator = context.get_validator(\n",
    "    batch_request=batch_request,\n",
    "    expectation_suite_name=expectation_suite_name,\n",
    ")\n",
    "validator.head()"
   ]
  },
  {
   "cell_type": "code",
   "execution_count": null,
   "id": "f46b4a5e",
   "metadata": {},
   "outputs": [],
   "source": [
    "validator.expect_column_values_to_not_be_null(\"pickup_datetime\")\n",
    "validator.expect_column_values_to_be_between(\"passenger_count\", auto=True)"
   ]
  },
  {
   "cell_type": "code",
   "execution_count": null,
   "id": "88d4c39a",
   "metadata": {},
   "outputs": [],
   "source": [
    "validator.save_expectation_suite(discard_failed_expectations=False)"
   ]
  },
  {
   "cell_type": "code",
   "execution_count": null,
   "id": "ef6f54d3",
   "metadata": {},
   "outputs": [],
   "source": [
    "checkpoint = context.add_or_update_checkpoint(\n",
    "    name=\"my_quickstart_checkpoint\",\n",
    "    validator=validator,\n",
    ")"
   ]
  },
  {
   "cell_type": "code",
   "execution_count": null,
   "id": "51543201",
   "metadata": {},
   "outputs": [],
   "source": [
    "checkpoint_result = checkpoint.run()"
   ]
  },
  {
   "cell_type": "code",
   "execution_count": null,
   "id": "f9fc8516",
   "metadata": {},
   "outputs": [],
   "source": [
    "checkpoint_result.success"
   ]
  }
 ],
 "metadata": {
  "kernelspec": {
   "display_name": "Python 3 (ipykernel)",
   "language": "python",
   "name": "python3"
  },
  "language_info": {
   "codemirror_mode": {
    "name": "ipython",
    "version": 3
   },
   "file_extension": ".py",
   "mimetype": "text/x-python",
   "name": "python",
   "nbconvert_exporter": "python",
   "pygments_lexer": "ipython3",
   "version": "3.8.16"
  }
 },
 "nbformat": 4,
 "nbformat_minor": 5
}

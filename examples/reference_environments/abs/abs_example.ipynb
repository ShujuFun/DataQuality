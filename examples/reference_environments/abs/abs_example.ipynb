{
 "cells": [
  {
   "cell_type": "code",
   "execution_count": null,
   "outputs": [],
   "source": [
    "import great_expectations as gx\n",
    "import os\n",
    "\n",
    "context = gx.get_context()"
   ],
   "metadata": {
    "collapsed": false
   }
  },
  {
   "cell_type": "markdown",
   "source": [
    "This notebook requires the setup of two environment variables:\n",
    "- `AZURE_STORAGE_ACCOUNT_URL`: Which refers to the Storage Account that contains your data. More information can be found in the (Azure Documentation)[https://learn.microsoft.com/en-us/azure/storage/common/storage-account-overview]\n",
    "- `AZURE_CREDENTIAL`: which contains the credential string."
   ],
   "metadata": {
    "collapsed": false
   }
  },
  {
   "cell_type": "code",
   "execution_count": null,
   "outputs": [],
   "source": [
    "# Explicitly create data docs site to use filesystem store with known file location.\n",
    "# This is done to simplify hosting data docs within the containers, the default is to write to a temp directory.\n",
    "\n",
    "context.add_data_docs_site(\n",
    "    site_config={\n",
    "        \"class_name\": \"SiteBuilder\",\n",
    "        \"store_backend\": {\n",
    "            \"class_name\": \"TupleFilesystemStoreBackend\",\n",
    "            \"base_directory\": \"/gx/gx_stores/data_docs\",\n",
    "        },\n",
    "        \"site_index_builder\": {\"class_name\": \"DefaultSiteIndexBuilder\"},\n",
    "    },\n",
    "    site_name=\"local_site_for_hosting\",\n",
    ")"
   ],
   "metadata": {
    "collapsed": false
   }
  },
  {
   "cell_type": "code",
   "execution_count": null,
   "outputs": [],
   "source": [
    "datasource_name = \"pandas_abs_example\"\n",
    "azure_options = {\n",
    "    \"account_url\": \"${AZURE_STORAGE_ACCOUNT_URL}\",\n",
    "    \"credential\": \"${AZURE_CREDENTIAL}\",\n",
    "}\n",
    "datasource = context.sources.add_pandas_abs(\n",
    "    name=datasource_name, azure_options=azure_options\n",
    ")"
   ],
   "metadata": {
    "collapsed": false
   }
  },
  {
   "cell_type": "code",
   "execution_count": null,
   "id": "29b4ba0b",
   "metadata": {},
   "outputs": [],
   "source": [
    "assert datasource_name in context.datasources"
   ]
  },
  {
   "cell_type": "code",
   "execution_count": null,
   "outputs": [],
   "source": [
    "asset_name = \"my_taxi_data_asset\"\n",
    "abs_container = \"superconductive-public\"\n",
    "abs_name_starts_with = \"data/taxi_yellow_tripdata_samples/\"\n",
    "batching_regex = r\"yellow_tripdata_sample_(?P<year>\\d{4})-(?P<month>\\d{2})\\.csv\""
   ],
   "metadata": {
    "collapsed": false
   }
  },
  {
   "cell_type": "code",
   "execution_count": null,
   "outputs": [],
   "source": [
    "data_asset = datasource.add_csv_asset(\n",
    "    name=asset_name,\n",
    "    batching_regex=batching_regex,\n",
    "    abs_container=abs_container,\n",
    "    abs_name_starts_with=abs_name_starts_with,\n",
    ")"
   ],
   "metadata": {
    "collapsed": false
   }
  },
  {
   "cell_type": "code",
   "execution_count": null,
   "outputs": [],
   "source": [
    "print(\"data_asset.batch_request_options:\", data_asset.batch_request_options)"
   ],
   "metadata": {
    "collapsed": false
   }
  },
  {
   "cell_type": "code",
   "execution_count": null,
   "id": "795951b9",
   "metadata": {},
   "outputs": [],
   "source": [
    "batch_request = data_asset.build_batch_request({\"year\": \"2019\", \"month\": \"03\"})"
   ]
  },
  {
   "cell_type": "code",
   "execution_count": null,
   "outputs": [],
   "source": [
    "batches = data_asset.get_batch_list_from_batch_request(batch_request)\n",
    "print(\"len(batches):\", len(batches))"
   ],
   "metadata": {
    "collapsed": false
   }
  },
  {
   "cell_type": "code",
   "execution_count": null,
   "id": "653a6e2f",
   "metadata": {},
   "outputs": [],
   "source": [
    "expectation_suite_name = \"my_expectation_suite\"\n",
    "context.add_or_update_expectation_suite(expectation_suite_name=expectation_suite_name)"
   ]
  },
  {
   "cell_type": "code",
   "execution_count": null,
   "id": "91234c8d",
   "metadata": {},
   "outputs": [],
   "source": [
    "validator = context.get_validator(\n",
    "    batch_request=batch_request,\n",
    "    expectation_suite_name=expectation_suite_name,\n",
    ")\n",
    "validator.head()"
   ]
  },
  {
   "cell_type": "code",
   "execution_count": null,
   "outputs": [],
   "source": [
    "print(\"columns:\", validator.active_batch.data.dataframe.columns)"
   ],
   "metadata": {
    "collapsed": false
   }
  },
  {
   "cell_type": "code",
   "execution_count": null,
   "id": "f46b4a5e",
   "metadata": {},
   "outputs": [],
   "source": [
    "validator.expect_column_values_to_not_be_null(\"pickup_datetime\")\n",
    "validator.expect_column_values_to_be_between(\"passenger_count\", auto=True)"
   ]
  },
  {
   "cell_type": "code",
   "execution_count": null,
   "id": "88d4c39a",
   "metadata": {},
   "outputs": [],
   "source": [
    "validator.save_expectation_suite(discard_failed_expectations=False)"
   ]
  },
  {
   "cell_type": "code",
   "execution_count": null,
   "id": "ef6f54d3",
   "metadata": {},
   "outputs": [],
   "source": [
    "checkpoint = context.add_or_update_checkpoint(\n",
    "    name=\"my_quickstart_checkpoint\",\n",
    "    validator=validator,\n",
    ")"
   ]
  },
  {
   "cell_type": "code",
   "execution_count": null,
   "id": "51543201",
   "metadata": {},
   "outputs": [],
   "source": [
    "checkpoint_result = checkpoint.run()"
   ]
  },
  {
   "cell_type": "code",
   "execution_count": null,
   "id": "f9fc8516",
   "metadata": {},
   "outputs": [],
   "source": [
    "checkpoint_result.success"
   ]
  }
 ],
 "metadata": {
  "kernelspec": {
   "display_name": "Python 3 (ipykernel)",
   "language": "python",
   "name": "python3"
  },
  "language_info": {
   "codemirror_mode": {
    "name": "ipython",
    "version": 3
   },
   "file_extension": ".py",
   "mimetype": "text/x-python",
   "name": "python",
   "nbconvert_exporter": "python",
   "pygments_lexer": "ipython3",
   "version": "3.8.16"
  }
 },
 "nbformat": 4,
 "nbformat_minor": 5
}

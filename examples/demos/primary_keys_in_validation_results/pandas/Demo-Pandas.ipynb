{
 "cells": [
  {
   "cell_type": "code",
   "execution_count": null,
   "id": "1e988c39",
   "metadata": {},
   "outputs": [],
   "source": [
    "import great_expectations as gx"
   ]
  },
  {
   "cell_type": "code",
   "execution_count": null,
   "id": "72f26a87",
   "metadata": {},
   "outputs": [],
   "source": [
    "from great_expectations.checkpoint.types.checkpoint_result import CheckpointResult\n",
    "from great_expectations.checkpoint import Checkpoint\n",
    "from great_expectations.core.batch import BatchRequest\n",
    "from great_expectations.datasource.fluent.interfaces import DataAsset"
   ]
  },
  {
   "cell_type": "code",
   "execution_count": null,
   "id": "7b0efad8",
   "metadata": {},
   "outputs": [],
   "source": [
    "context = gx.get_context(context_root_dir=\"./great_expectations/\")"
   ]
  },
  {
   "cell_type": "markdown",
   "id": "f9d4bfbf",
   "metadata": {},
   "source": [
    "`batch_request` for retrieving `visits.csv` table"
   ]
  },
  {
   "cell_type": "code",
   "execution_count": null,
   "id": "4a1418f1",
   "metadata": {},
   "outputs": [],
   "source": [
    "# validator\n",
    "visits_asset: DataAsset = context.datasources[\"visits_datasource\"].get_asset(\"visits\")"
   ]
  },
  {
   "cell_type": "code",
   "execution_count": null,
   "id": "54940668",
   "metadata": {},
   "outputs": [],
   "source": [
    "batch_request: BatchRequest = visits_asset.build_batch_request()"
   ]
  },
  {
   "cell_type": "markdown",
   "id": "56b39945",
   "metadata": {},
   "source": [
    "`checkpoint` configuration "
   ]
  },
  {
   "cell_type": "code",
   "execution_count": null,
   "id": "bb716971",
   "metadata": {},
   "outputs": [],
   "source": [
    "checkpoint: Checkpoint = Checkpoint(\n",
    "    name=\"my_checkpoint\",\n",
    "    run_name_template=\"%Y%m%d-%H%M%S-my-run-name-template\",\n",
    "    data_context=context,\n",
    "    batch_request=batch_request,\n",
    "    expectation_suite_name=\"visitors_exp\",\n",
    "    action_list=[\n",
    "        {\n",
    "            \"name\": \"store_validation_result\",\n",
    "            \"action\": {\"class_name\": \"StoreValidationResultAction\"},\n",
    "        },\n",
    "        {\"name\": \"update_data_docs\", \"action\": {\"class_name\": \"UpdateDataDocsAction\"}},\n",
    "    ],\n",
    ")"
   ]
  },
  {
   "cell_type": "code",
   "execution_count": null,
   "id": "3afeeb89",
   "metadata": {},
   "outputs": [],
   "source": [
    "context.add_or_update_checkpoint(checkpoint=checkpoint)"
   ]
  },
  {
   "cell_type": "markdown",
   "id": "99f5e58d",
   "metadata": {},
   "source": [
    "# Example 1: \n",
    "* `unexpected_index_column_names` not configured."
   ]
  },
  {
   "cell_type": "code",
   "execution_count": null,
   "id": "28b3140f",
   "metadata": {
    "scrolled": true
   },
   "outputs": [],
   "source": [
    "results: CheckpointResult = checkpoint.run()"
   ]
  },
  {
   "cell_type": "code",
   "execution_count": null,
   "id": "5deb7e49",
   "metadata": {},
   "outputs": [],
   "source": [
    "evrs = results.list_validation_results()"
   ]
  },
  {
   "cell_type": "code",
   "execution_count": null,
   "id": "069ae58d",
   "metadata": {},
   "outputs": [],
   "source": [
    "evrs[0][\"results\"][0][\"result\"]"
   ]
  },
  {
   "cell_type": "code",
   "execution_count": null,
   "id": "de54c37c",
   "metadata": {},
   "outputs": [],
   "source": [
    "context.open_data_docs()"
   ]
  },
  {
   "cell_type": "markdown",
   "id": "26ed0b01",
   "metadata": {},
   "source": [
    "# Example 2:\n",
    "* Single `unexpected_index_column_names` configured."
   ]
  },
  {
   "cell_type": "code",
   "execution_count": null,
   "id": "0b165b44",
   "metadata": {},
   "outputs": [],
   "source": [
    "result_format: dict = {\n",
    "    \"result_format\": \"COMPLETE\",\n",
    "    \"unexpected_index_column_names\": [\"event_id\"],\n",
    "    # \"return_unexpected_index_query\" : False  # unexpected_index_query is returned by default. Uncommenting this line will suppress the output.\n",
    "}"
   ]
  },
  {
   "cell_type": "code",
   "execution_count": null,
   "id": "a156aa51",
   "metadata": {},
   "outputs": [],
   "source": [
    "results = checkpoint.run(result_format=result_format)"
   ]
  },
  {
   "cell_type": "code",
   "execution_count": null,
   "id": "792fc1b9",
   "metadata": {},
   "outputs": [],
   "source": [
    "evrs = results.list_validation_results()"
   ]
  },
  {
   "cell_type": "code",
   "execution_count": null,
   "id": "7b08cbad",
   "metadata": {},
   "outputs": [],
   "source": [
    "evrs[0][\"results\"][0][\"result\"]"
   ]
  },
  {
   "cell_type": "code",
   "execution_count": null,
   "id": "1428654a",
   "metadata": {},
   "outputs": [],
   "source": [
    "context.open_data_docs()"
   ]
  },
  {
   "cell_type": "markdown",
   "id": "b1b80f65",
   "metadata": {},
   "source": [
    "# Example 3:\n",
    "* Multiple `unexpected_index_column_names` configured."
   ]
  },
  {
   "cell_type": "code",
   "execution_count": null,
   "id": "9092944e",
   "metadata": {},
   "outputs": [],
   "source": [
    "result_format: dict = {\n",
    "    \"result_format\": \"COMPLETE\",\n",
    "    \"unexpected_index_column_names\": [\"event_id\", \"visit_id\"],\n",
    "    # \"return_unexpected_index_query\" : False  # unexpected_index_query is returned by default. Uncommenting this line will suppress the output.\n",
    "}"
   ]
  },
  {
   "cell_type": "code",
   "execution_count": null,
   "id": "743aa8a2",
   "metadata": {},
   "outputs": [],
   "source": [
    "results: CheckpointResult = checkpoint.run(result_format=result_format)"
   ]
  },
  {
   "cell_type": "code",
   "execution_count": null,
   "id": "cf1be4a3",
   "metadata": {},
   "outputs": [],
   "source": [
    "evrs = results.list_validation_results()"
   ]
  },
  {
   "cell_type": "code",
   "execution_count": null,
   "id": "f2d84ac3",
   "metadata": {},
   "outputs": [],
   "source": [
    "evrs[0][\"results\"][0][\"result\"]"
   ]
  },
  {
   "cell_type": "code",
   "execution_count": null,
   "id": "62463413",
   "metadata": {},
   "outputs": [],
   "source": [
    "context.open_data_docs()"
   ]
  }
 ],
 "metadata": {
  "kernelspec": {
   "display_name": "Python 3 (ipykernel)",
   "language": "python",
   "name": "python3"
  },
  "language_info": {
   "codemirror_mode": {
    "name": "ipython",
    "version": 3
   },
   "file_extension": ".py",
   "mimetype": "text/x-python",
   "name": "python",
   "nbconvert_exporter": "python",
   "pygments_lexer": "ipython3",
   "version": "3.8.16"
  }
 },
 "nbformat": 4,
 "nbformat_minor": 5
}

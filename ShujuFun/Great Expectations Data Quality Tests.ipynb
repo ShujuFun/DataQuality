{
 "cells": [
  {
   "cell_type": "markdown",
   "id": "ed16c79b",
   "metadata": {},
   "source": [
    "### Import libraries and data"
   ]
  },
  {
   "cell_type": "code",
   "execution_count": 1,
   "id": "6e5702c6",
   "metadata": {},
   "outputs": [],
   "source": [
    "import great_expectations as ge\n",
    "import pandas as pd"
   ]
  },
  {
   "cell_type": "code",
   "execution_count": 2,
   "id": "6cdfb6be",
   "metadata": {},
   "outputs": [
    {
     "data": {
      "text/html": [
       "<div>\n",
       "<style scoped>\n",
       "    .dataframe tbody tr th:only-of-type {\n",
       "        vertical-align: middle;\n",
       "    }\n",
       "\n",
       "    .dataframe tbody tr th {\n",
       "        vertical-align: top;\n",
       "    }\n",
       "\n",
       "    .dataframe thead th {\n",
       "        text-align: right;\n",
       "    }\n",
       "</style>\n",
       "<table border=\"1\" class=\"dataframe\">\n",
       "  <thead>\n",
       "    <tr style=\"text-align: right;\">\n",
       "      <th></th>\n",
       "      <th>ProductKey</th>\n",
       "      <th>ProductAlternateKey</th>\n",
       "      <th>ProductSubcategoryKey</th>\n",
       "      <th>WeightUnitMeasureCode</th>\n",
       "      <th>SizeUnitMeasureCode</th>\n",
       "      <th>EnglishProductName</th>\n",
       "      <th>StandardCost</th>\n",
       "      <th>FinishedGoodsFlag</th>\n",
       "      <th>Color</th>\n",
       "      <th>SafetyStockLevel</th>\n",
       "      <th>...</th>\n",
       "      <th>DaysToManufacture</th>\n",
       "      <th>ProductLine</th>\n",
       "      <th>DealerPrice</th>\n",
       "      <th>Class</th>\n",
       "      <th>Style</th>\n",
       "      <th>ModelName</th>\n",
       "      <th>EnglishDescription</th>\n",
       "      <th>StartDate</th>\n",
       "      <th>EndDate</th>\n",
       "      <th>Status</th>\n",
       "    </tr>\n",
       "  </thead>\n",
       "  <tbody>\n",
       "    <tr>\n",
       "      <th>0</th>\n",
       "      <td>1</td>\n",
       "      <td>AR-5381</td>\n",
       "      <td>NaN</td>\n",
       "      <td>NaN</td>\n",
       "      <td>NaN</td>\n",
       "      <td>Adjustable Race</td>\n",
       "      <td>NaN</td>\n",
       "      <td>0</td>\n",
       "      <td>NaN</td>\n",
       "      <td>1000</td>\n",
       "      <td>...</td>\n",
       "      <td>0</td>\n",
       "      <td>NaN</td>\n",
       "      <td>NaN</td>\n",
       "      <td>NaN</td>\n",
       "      <td>NaN</td>\n",
       "      <td>NaN</td>\n",
       "      <td>NaN</td>\n",
       "      <td>2003-07-01</td>\n",
       "      <td>NaT</td>\n",
       "      <td>Current</td>\n",
       "    </tr>\n",
       "    <tr>\n",
       "      <th>1</th>\n",
       "      <td>2</td>\n",
       "      <td>BA-8327</td>\n",
       "      <td>NaN</td>\n",
       "      <td>NaN</td>\n",
       "      <td>NaN</td>\n",
       "      <td>Bearing Ball</td>\n",
       "      <td>NaN</td>\n",
       "      <td>0</td>\n",
       "      <td>NaN</td>\n",
       "      <td>1000</td>\n",
       "      <td>...</td>\n",
       "      <td>0</td>\n",
       "      <td>NaN</td>\n",
       "      <td>NaN</td>\n",
       "      <td>NaN</td>\n",
       "      <td>NaN</td>\n",
       "      <td>NaN</td>\n",
       "      <td>NaN</td>\n",
       "      <td>2003-07-01</td>\n",
       "      <td>NaT</td>\n",
       "      <td>Current</td>\n",
       "    </tr>\n",
       "    <tr>\n",
       "      <th>2</th>\n",
       "      <td>3</td>\n",
       "      <td>BE-2349</td>\n",
       "      <td>NaN</td>\n",
       "      <td>NaN</td>\n",
       "      <td>NaN</td>\n",
       "      <td>BB Ball Bearing</td>\n",
       "      <td>NaN</td>\n",
       "      <td>0</td>\n",
       "      <td>NaN</td>\n",
       "      <td>800</td>\n",
       "      <td>...</td>\n",
       "      <td>1</td>\n",
       "      <td>NaN</td>\n",
       "      <td>NaN</td>\n",
       "      <td>NaN</td>\n",
       "      <td>NaN</td>\n",
       "      <td>NaN</td>\n",
       "      <td>NaN</td>\n",
       "      <td>2003-07-01</td>\n",
       "      <td>NaT</td>\n",
       "      <td>Current</td>\n",
       "    </tr>\n",
       "    <tr>\n",
       "      <th>3</th>\n",
       "      <td>4</td>\n",
       "      <td>BE-2908</td>\n",
       "      <td>NaN</td>\n",
       "      <td>NaN</td>\n",
       "      <td>NaN</td>\n",
       "      <td>Headset Ball Bearings</td>\n",
       "      <td>NaN</td>\n",
       "      <td>0</td>\n",
       "      <td>NaN</td>\n",
       "      <td>800</td>\n",
       "      <td>...</td>\n",
       "      <td>0</td>\n",
       "      <td>NaN</td>\n",
       "      <td>NaN</td>\n",
       "      <td>NaN</td>\n",
       "      <td>NaN</td>\n",
       "      <td>NaN</td>\n",
       "      <td>NaN</td>\n",
       "      <td>2003-07-01</td>\n",
       "      <td>NaT</td>\n",
       "      <td>Current</td>\n",
       "    </tr>\n",
       "    <tr>\n",
       "      <th>4</th>\n",
       "      <td>5</td>\n",
       "      <td>BL-2036</td>\n",
       "      <td>NaN</td>\n",
       "      <td>NaN</td>\n",
       "      <td>NaN</td>\n",
       "      <td>Blade</td>\n",
       "      <td>NaN</td>\n",
       "      <td>0</td>\n",
       "      <td>NaN</td>\n",
       "      <td>800</td>\n",
       "      <td>...</td>\n",
       "      <td>1</td>\n",
       "      <td>NaN</td>\n",
       "      <td>NaN</td>\n",
       "      <td>NaN</td>\n",
       "      <td>NaN</td>\n",
       "      <td>NaN</td>\n",
       "      <td>NaN</td>\n",
       "      <td>2003-07-01</td>\n",
       "      <td>NaT</td>\n",
       "      <td>Current</td>\n",
       "    </tr>\n",
       "  </tbody>\n",
       "</table>\n",
       "<p>5 rows × 25 columns</p>\n",
       "</div>"
      ],
      "text/plain": [
       "   ProductKey ProductAlternateKey  ProductSubcategoryKey  \\\n",
       "0           1             AR-5381                    NaN   \n",
       "1           2             BA-8327                    NaN   \n",
       "2           3             BE-2349                    NaN   \n",
       "3           4             BE-2908                    NaN   \n",
       "4           5             BL-2036                    NaN   \n",
       "\n",
       "  WeightUnitMeasureCode SizeUnitMeasureCode     EnglishProductName  \\\n",
       "0                   NaN                 NaN        Adjustable Race   \n",
       "1                   NaN                 NaN           Bearing Ball   \n",
       "2                   NaN                 NaN        BB Ball Bearing   \n",
       "3                   NaN                 NaN  Headset Ball Bearings   \n",
       "4                   NaN                 NaN                  Blade   \n",
       "\n",
       "   StandardCost  FinishedGoodsFlag Color  SafetyStockLevel  ...  \\\n",
       "0           NaN                  0   NaN              1000  ...   \n",
       "1           NaN                  0   NaN              1000  ...   \n",
       "2           NaN                  0   NaN               800  ...   \n",
       "3           NaN                  0   NaN               800  ...   \n",
       "4           NaN                  0   NaN               800  ...   \n",
       "\n",
       "   DaysToManufacture  ProductLine DealerPrice Class  Style  ModelName  \\\n",
       "0                  0          NaN         NaN   NaN    NaN        NaN   \n",
       "1                  0          NaN         NaN   NaN    NaN        NaN   \n",
       "2                  1          NaN         NaN   NaN    NaN        NaN   \n",
       "3                  0          NaN         NaN   NaN    NaN        NaN   \n",
       "4                  1          NaN         NaN   NaN    NaN        NaN   \n",
       "\n",
       "  EnglishDescription  StartDate EndDate   Status  \n",
       "0                NaN 2003-07-01     NaT  Current  \n",
       "1                NaN 2003-07-01     NaT  Current  \n",
       "2                NaN 2003-07-01     NaT  Current  \n",
       "3                NaN 2003-07-01     NaT  Current  \n",
       "4                NaN 2003-07-01     NaT  Current  \n",
       "\n",
       "[5 rows x 25 columns]"
      ]
     },
     "execution_count": 2,
     "metadata": {},
     "output_type": "execute_result"
    }
   ],
   "source": [
    "url = \"https://github.com/hnawaz007/pythondataanalysis/blob/main/ETL%20Pipeline/Pytest/Session%20one/Product.xlsx?raw=true\"\n",
    "# read from url\n",
    "df=pd.read_excel(url)\n",
    "df.head()"
   ]
  },
  {
   "cell_type": "markdown",
   "id": "bf6efc37",
   "metadata": {},
   "source": [
    "### Convert pandas dataframe to Great Expectation"
   ]
  },
  {
   "cell_type": "code",
   "execution_count": 3,
   "id": "7b10cdcc",
   "metadata": {},
   "outputs": [],
   "source": [
    "my_df = ge.from_pandas(df)"
   ]
  },
  {
   "cell_type": "code",
   "execution_count": 4,
   "id": "d18591c7",
   "metadata": {},
   "outputs": [
    {
     "data": {
      "text/plain": [
       "great_expectations.dataset.pandas_dataset.PandasDataset"
      ]
     },
     "execution_count": 4,
     "metadata": {},
     "output_type": "execute_result"
    }
   ],
   "source": [
    "type(my_df)"
   ]
  },
  {
   "cell_type": "markdown",
   "id": "e754f444",
   "metadata": {},
   "source": [
    "### GE Data Quality Tests"
   ]
  },
  {
   "cell_type": "code",
   "execution_count": 5,
   "id": "b8fd5866",
   "metadata": {},
   "outputs": [
    {
     "data": {
      "text/plain": [
       "{\n",
       "  \"exception_info\": {\n",
       "    \"raised_exception\": false,\n",
       "    \"exception_traceback\": null,\n",
       "    \"exception_message\": null\n",
       "  },\n",
       "  \"success\": false,\n",
       "  \"result\": {\n",
       "    \"observed_value\": 606\n",
       "  },\n",
       "  \"meta\": {}\n",
       "}"
      ]
     },
     "execution_count": 5,
     "metadata": {},
     "output_type": "execute_result"
    }
   ],
   "source": [
    "# check number of rows in the dataset\n",
    "my_df.expect_table_row_count_to_equal(1000)"
   ]
  },
  {
   "cell_type": "markdown",
   "id": "dfbc4376",
   "metadata": {},
   "source": [
    "### Primary Key Test"
   ]
  },
  {
   "cell_type": "code",
   "execution_count": 6,
   "id": "cf4706d7",
   "metadata": {},
   "outputs": [
    {
     "data": {
      "text/plain": [
       "{\n",
       "  \"exception_info\": {\n",
       "    \"raised_exception\": false,\n",
       "    \"exception_traceback\": null,\n",
       "    \"exception_message\": null\n",
       "  },\n",
       "  \"success\": true,\n",
       "  \"result\": {},\n",
       "  \"meta\": {}\n",
       "}"
      ]
     },
     "execution_count": 6,
     "metadata": {},
     "output_type": "execute_result"
    }
   ],
   "source": [
    "my_df.expect_column_to_exist('ProductKey')"
   ]
  },
  {
   "cell_type": "code",
   "execution_count": 7,
   "id": "88a6f568",
   "metadata": {},
   "outputs": [
    {
     "data": {
      "text/plain": [
       "{\n",
       "  \"exception_info\": {\n",
       "    \"raised_exception\": false,\n",
       "    \"exception_traceback\": null,\n",
       "    \"exception_message\": null\n",
       "  },\n",
       "  \"success\": true,\n",
       "  \"result\": {\n",
       "    \"element_count\": 606,\n",
       "    \"missing_count\": 0,\n",
       "    \"missing_percent\": 0.0,\n",
       "    \"unexpected_count\": 0,\n",
       "    \"unexpected_percent\": 0.0,\n",
       "    \"unexpected_percent_total\": 0.0,\n",
       "    \"unexpected_percent_nonmissing\": 0.0,\n",
       "    \"partial_unexpected_list\": []\n",
       "  },\n",
       "  \"meta\": {}\n",
       "}"
      ]
     },
     "execution_count": 7,
     "metadata": {},
     "output_type": "execute_result"
    }
   ],
   "source": [
    "my_df.expect_column_values_to_be_unique('ProductKey')"
   ]
  },
  {
   "cell_type": "code",
   "execution_count": 8,
   "id": "5aa7a153",
   "metadata": {},
   "outputs": [
    {
     "data": {
      "text/plain": [
       "{\n",
       "  \"exception_info\": {\n",
       "    \"raised_exception\": false,\n",
       "    \"exception_traceback\": null,\n",
       "    \"exception_message\": null\n",
       "  },\n",
       "  \"success\": true,\n",
       "  \"result\": {\n",
       "    \"element_count\": 606,\n",
       "    \"unexpected_count\": 0,\n",
       "    \"unexpected_percent\": 0.0,\n",
       "    \"unexpected_percent_total\": 0.0,\n",
       "    \"partial_unexpected_list\": []\n",
       "  },\n",
       "  \"meta\": {}\n",
       "}"
      ]
     },
     "execution_count": 8,
     "metadata": {},
     "output_type": "execute_result"
    }
   ],
   "source": [
    "my_df.expect_column_values_to_not_be_null('ProductKey')"
   ]
  },
  {
   "cell_type": "code",
   "execution_count": 9,
   "id": "4b975d6c",
   "metadata": {},
   "outputs": [
    {
     "data": {
      "text/plain": [
       "{\n",
       "  \"exception_info\": {\n",
       "    \"raised_exception\": false,\n",
       "    \"exception_traceback\": null,\n",
       "    \"exception_message\": null\n",
       "  },\n",
       "  \"success\": true,\n",
       "  \"result\": {\n",
       "    \"observed_value\": \"int64\"\n",
       "  },\n",
       "  \"meta\": {}\n",
       "}"
      ]
     },
     "execution_count": 9,
     "metadata": {},
     "output_type": "execute_result"
    }
   ],
   "source": [
    "my_df.expect_column_values_to_be_in_type_list(\"ProductKey\", [\"int\", \"int64\"])"
   ]
  },
  {
   "cell_type": "markdown",
   "id": "2b5f7801",
   "metadata": {},
   "source": [
    "### Test values in a set (list)"
   ]
  },
  {
   "cell_type": "code",
   "execution_count": 10,
   "id": "a8bc15ab",
   "metadata": {},
   "outputs": [
    {
     "data": {
      "text/plain": [
       "array([nan, 'R ', 'S ', 'M ', 'T '], dtype=object)"
      ]
     },
     "execution_count": 10,
     "metadata": {},
     "output_type": "execute_result"
    }
   ],
   "source": [
    "df.ProductLine.unique()"
   ]
  },
  {
   "cell_type": "code",
   "execution_count": 11,
   "id": "bdd6466f",
   "metadata": {},
   "outputs": [
    {
     "data": {
      "text/plain": [
       "{\n",
       "  \"exception_info\": {\n",
       "    \"raised_exception\": false,\n",
       "    \"exception_traceback\": null,\n",
       "    \"exception_message\": null\n",
       "  },\n",
       "  \"success\": true,\n",
       "  \"result\": {\n",
       "    \"element_count\": 606,\n",
       "    \"missing_count\": 226,\n",
       "    \"missing_percent\": 37.29372937293729,\n",
       "    \"unexpected_count\": 0,\n",
       "    \"unexpected_percent\": 0.0,\n",
       "    \"unexpected_percent_total\": 0.0,\n",
       "    \"unexpected_percent_nonmissing\": 0.0,\n",
       "    \"partial_unexpected_list\": []\n",
       "  },\n",
       "  \"meta\": {}\n",
       "}"
      ]
     },
     "execution_count": 11,
     "metadata": {},
     "output_type": "execute_result"
    }
   ],
   "source": [
    "my_df.expect_column_values_to_be_in_set(\"ProductLine\", ['R ', 'S ', 'M ', 'T '])"
   ]
  },
  {
   "cell_type": "code",
   "execution_count": 12,
   "id": "eae36dd6",
   "metadata": {},
   "outputs": [
    {
     "data": {
      "text/plain": [
       "{\n",
       "  \"exception_info\": {\n",
       "    \"raised_exception\": false,\n",
       "    \"exception_traceback\": null,\n",
       "    \"exception_message\": null\n",
       "  },\n",
       "  \"success\": false,\n",
       "  \"result\": {\n",
       "    \"element_count\": 606,\n",
       "    \"missing_count\": 254,\n",
       "    \"missing_percent\": 41.914191419141915,\n",
       "    \"unexpected_count\": 7,\n",
       "    \"unexpected_percent\": 1.9886363636363635,\n",
       "    \"unexpected_percent_total\": 1.155115511551155,\n",
       "    \"unexpected_percent_nonmissing\": 1.9886363636363635,\n",
       "    \"partial_unexpected_list\": [\n",
       "      \"Silver/Black\",\n",
       "      \"Silver/Black\",\n",
       "      \"Silver/Black\",\n",
       "      \"Silver/Black\",\n",
       "      \"Silver/Black\",\n",
       "      \"Silver/Black\",\n",
       "      \"Silver/Black\"\n",
       "    ]\n",
       "  },\n",
       "  \"meta\": {}\n",
       "}"
      ]
     },
     "execution_count": 12,
     "metadata": {},
     "output_type": "execute_result"
    }
   ],
   "source": [
    "my_df.expect_column_values_to_be_in_set(\"Color\", [ 'Black', 'Silver', 'Red', 'White', 'Blue', 'Multi', 'Yellow','Grey', 'Silver'])"
   ]
  },
  {
   "cell_type": "markdown",
   "id": "09251dae",
   "metadata": {},
   "source": [
    "### Check min and Max range of column"
   ]
  },
  {
   "cell_type": "code",
   "execution_count": 13,
   "id": "0d12de87",
   "metadata": {},
   "outputs": [
    {
     "data": {
      "text/plain": [
       "array([1000,  800,  500,   60,    4,  100], dtype=int64)"
      ]
     },
     "execution_count": 13,
     "metadata": {},
     "output_type": "execute_result"
    }
   ],
   "source": [
    "df.SafetyStockLevel.unique()"
   ]
  },
  {
   "cell_type": "code",
   "execution_count": 14,
   "id": "e977c16c",
   "metadata": {},
   "outputs": [
    {
     "data": {
      "text/plain": [
       "{\n",
       "  \"exception_info\": {\n",
       "    \"raised_exception\": false,\n",
       "    \"exception_traceback\": null,\n",
       "    \"exception_message\": null\n",
       "  },\n",
       "  \"success\": true,\n",
       "  \"result\": {\n",
       "    \"observed_value\": 1000,\n",
       "    \"element_count\": 606,\n",
       "    \"missing_count\": null,\n",
       "    \"missing_percent\": null\n",
       "  },\n",
       "  \"meta\": {}\n",
       "}"
      ]
     },
     "execution_count": 14,
     "metadata": {},
     "output_type": "execute_result"
    }
   ],
   "source": [
    "my_df.expect_column_max_to_be_between(\"SafetyStockLevel\", 1, 1000)"
   ]
  },
  {
   "cell_type": "code",
   "execution_count": 15,
   "id": "84ee1f1b",
   "metadata": {},
   "outputs": [
    {
     "data": {
      "text/plain": [
       "{\n",
       "  \"exception_info\": {\n",
       "    \"raised_exception\": false,\n",
       "    \"exception_traceback\": null,\n",
       "    \"exception_message\": null\n",
       "  },\n",
       "  \"success\": true,\n",
       "  \"result\": {\n",
       "    \"observed_value\": 4,\n",
       "    \"element_count\": 606,\n",
       "    \"missing_count\": null,\n",
       "    \"missing_percent\": null\n",
       "  },\n",
       "  \"meta\": {}\n",
       "}"
      ]
     },
     "execution_count": 15,
     "metadata": {},
     "output_type": "execute_result"
    }
   ],
   "source": [
    "my_df.expect_column_max_to_be_between(\"DaysToManufacture\", 1, 10)"
   ]
  },
  {
   "cell_type": "code",
   "execution_count": 16,
   "id": "80442b4c",
   "metadata": {},
   "outputs": [
    {
     "data": {
      "text/plain": [
       "{\n",
       "  \"exception_info\": {\n",
       "    \"raised_exception\": false,\n",
       "    \"exception_traceback\": null,\n",
       "    \"exception_message\": null\n",
       "  },\n",
       "  \"success\": true,\n",
       "  \"result\": {\n",
       "    \"observed_value\": 434.26582886075965,\n",
       "    \"element_count\": 606,\n",
       "    \"missing_count\": 211,\n",
       "    \"missing_percent\": 34.81848184818482\n",
       "  },\n",
       "  \"meta\": {}\n",
       "}"
      ]
     },
     "execution_count": 16,
     "metadata": {},
     "output_type": "execute_result"
    }
   ],
   "source": [
    "my_df.expect_column_mean_to_be_between(\"StandardCost\", 100, 500)"
   ]
  },
  {
   "cell_type": "markdown",
   "id": "205d3f86",
   "metadata": {},
   "source": [
    "### Test Text columns (Nulls)"
   ]
  },
  {
   "cell_type": "code",
   "execution_count": 17,
   "id": "dc8332de",
   "metadata": {},
   "outputs": [
    {
     "data": {
      "text/plain": [
       "{\n",
       "  \"exception_info\": {\n",
       "    \"raised_exception\": false,\n",
       "    \"exception_traceback\": null,\n",
       "    \"exception_message\": null\n",
       "  },\n",
       "  \"success\": true,\n",
       "  \"result\": {\n",
       "    \"element_count\": 606,\n",
       "    \"unexpected_count\": 0,\n",
       "    \"unexpected_percent\": 0.0,\n",
       "    \"unexpected_percent_total\": 0.0,\n",
       "    \"partial_unexpected_list\": []\n",
       "  },\n",
       "  \"meta\": {}\n",
       "}"
      ]
     },
     "execution_count": 17,
     "metadata": {},
     "output_type": "execute_result"
    }
   ],
   "source": [
    "my_df.expect_column_values_to_not_be_null('EnglishProductName')"
   ]
  },
  {
   "cell_type": "code",
   "execution_count": 18,
   "id": "7e48f793",
   "metadata": {},
   "outputs": [
    {
     "data": {
      "text/plain": [
       "{\n",
       "  \"exception_info\": {\n",
       "    \"raised_exception\": false,\n",
       "    \"exception_traceback\": null,\n",
       "    \"exception_message\": null\n",
       "  },\n",
       "  \"success\": true,\n",
       "  \"result\": {\n",
       "    \"element_count\": 606,\n",
       "    \"unexpected_count\": 254,\n",
       "    \"unexpected_percent\": 41.914191419141915,\n",
       "    \"unexpected_percent_total\": 41.914191419141915,\n",
       "    \"partial_unexpected_list\": []\n",
       "  },\n",
       "  \"meta\": {}\n",
       "}"
      ]
     },
     "execution_count": 18,
     "metadata": {},
     "output_type": "execute_result"
    }
   ],
   "source": [
    "my_df.expect_column_values_to_not_be_null(\"Color\", mostly=0.55)"
   ]
  },
  {
   "cell_type": "markdown",
   "id": "0e6d874f",
   "metadata": {},
   "source": [
    "### Save your test cases and re-use"
   ]
  },
  {
   "cell_type": "code",
   "execution_count": 19,
   "id": "82ed7f12",
   "metadata": {},
   "outputs": [
    {
     "data": {
      "text/plain": [
       "{\n",
       "  \"ge_cloud_id\": null,\n",
       "  \"expectations\": [\n",
       "    {\n",
       "      \"meta\": {},\n",
       "      \"kwargs\": {\n",
       "        \"column\": \"ProductKey\"\n",
       "      },\n",
       "      \"expectation_type\": \"expect_column_to_exist\"\n",
       "    },\n",
       "    {\n",
       "      \"meta\": {},\n",
       "      \"kwargs\": {\n",
       "        \"column\": \"ProductKey\"\n",
       "      },\n",
       "      \"expectation_type\": \"expect_column_values_to_be_unique\"\n",
       "    },\n",
       "    {\n",
       "      \"meta\": {},\n",
       "      \"kwargs\": {\n",
       "        \"column\": \"ProductKey\"\n",
       "      },\n",
       "      \"expectation_type\": \"expect_column_values_to_not_be_null\"\n",
       "    },\n",
       "    {\n",
       "      \"meta\": {},\n",
       "      \"kwargs\": {\n",
       "        \"column\": \"ProductKey\",\n",
       "        \"type_list\": [\n",
       "          \"int\",\n",
       "          \"int64\"\n",
       "        ]\n",
       "      },\n",
       "      \"expectation_type\": \"expect_column_values_to_be_in_type_list\"\n",
       "    },\n",
       "    {\n",
       "      \"meta\": {},\n",
       "      \"kwargs\": {\n",
       "        \"column\": \"ProductLine\",\n",
       "        \"value_set\": [\n",
       "          \"R \",\n",
       "          \"S \",\n",
       "          \"M \",\n",
       "          \"T \"\n",
       "        ]\n",
       "      },\n",
       "      \"expectation_type\": \"expect_column_values_to_be_in_set\"\n",
       "    },\n",
       "    {\n",
       "      \"meta\": {},\n",
       "      \"kwargs\": {\n",
       "        \"column\": \"SafetyStockLevel\",\n",
       "        \"min_value\": 1,\n",
       "        \"max_value\": 1000\n",
       "      },\n",
       "      \"expectation_type\": \"expect_column_max_to_be_between\"\n",
       "    },\n",
       "    {\n",
       "      \"meta\": {},\n",
       "      \"kwargs\": {\n",
       "        \"column\": \"DaysToManufacture\",\n",
       "        \"min_value\": 1,\n",
       "        \"max_value\": 10\n",
       "      },\n",
       "      \"expectation_type\": \"expect_column_max_to_be_between\"\n",
       "    },\n",
       "    {\n",
       "      \"meta\": {},\n",
       "      \"kwargs\": {\n",
       "        \"column\": \"StandardCost\",\n",
       "        \"min_value\": 100,\n",
       "        \"max_value\": 500\n",
       "      },\n",
       "      \"expectation_type\": \"expect_column_mean_to_be_between\"\n",
       "    },\n",
       "    {\n",
       "      \"meta\": {},\n",
       "      \"kwargs\": {\n",
       "        \"column\": \"EnglishProductName\"\n",
       "      },\n",
       "      \"expectation_type\": \"expect_column_values_to_not_be_null\"\n",
       "    },\n",
       "    {\n",
       "      \"meta\": {},\n",
       "      \"kwargs\": {\n",
       "        \"column\": \"Color\",\n",
       "        \"mostly\": 0.55\n",
       "      },\n",
       "      \"expectation_type\": \"expect_column_values_to_not_be_null\"\n",
       "    }\n",
       "  ],\n",
       "  \"expectation_suite_name\": \"default\",\n",
       "  \"meta\": {\n",
       "    \"great_expectations_version\": \"0.15.41\"\n",
       "  },\n",
       "  \"data_asset_type\": \"Dataset\"\n",
       "}"
      ]
     },
     "execution_count": 19,
     "metadata": {},
     "output_type": "execute_result"
    }
   ],
   "source": [
    "my_df.get_expectations_config()"
   ]
  },
  {
   "cell_type": "code",
   "execution_count": 20,
   "id": "42863663",
   "metadata": {},
   "outputs": [],
   "source": [
    "config = my_df.get_expectations_config()"
   ]
  },
  {
   "cell_type": "code",
   "execution_count": 21,
   "id": "029d4d24",
   "metadata": {},
   "outputs": [],
   "source": [
    "my_df.save_expectation_suite('product.data.expectations.json')"
   ]
  },
  {
   "cell_type": "code",
   "execution_count": 22,
   "id": "aa92bf57",
   "metadata": {},
   "outputs": [],
   "source": [
    "df2 = ge.read_excel(url)"
   ]
  },
  {
   "cell_type": "code",
   "execution_count": 23,
   "id": "5f405eaf",
   "metadata": {},
   "outputs": [
    {
     "data": {
      "text/plain": [
       "{\n",
       "  \"success\": true,\n",
       "  \"results\": [\n",
       "    {\n",
       "      \"exception_info\": {\n",
       "        \"raised_exception\": false,\n",
       "        \"exception_message\": null,\n",
       "        \"exception_traceback\": null\n",
       "      },\n",
       "      \"expectation_config\": {\n",
       "        \"meta\": {},\n",
       "        \"kwargs\": {\n",
       "          \"column\": \"ProductKey\"\n",
       "        },\n",
       "        \"expectation_type\": \"expect_column_to_exist\"\n",
       "      },\n",
       "      \"success\": true,\n",
       "      \"result\": {},\n",
       "      \"meta\": {}\n",
       "    },\n",
       "    {\n",
       "      \"exception_info\": {\n",
       "        \"raised_exception\": false,\n",
       "        \"exception_message\": null,\n",
       "        \"exception_traceback\": null\n",
       "      },\n",
       "      \"expectation_config\": {\n",
       "        \"meta\": {},\n",
       "        \"kwargs\": {\n",
       "          \"column\": \"ProductKey\"\n",
       "        },\n",
       "        \"expectation_type\": \"expect_column_values_to_be_unique\"\n",
       "      },\n",
       "      \"success\": true,\n",
       "      \"result\": {\n",
       "        \"element_count\": 606,\n",
       "        \"missing_count\": 0,\n",
       "        \"missing_percent\": 0.0,\n",
       "        \"unexpected_count\": 0,\n",
       "        \"unexpected_percent\": 0.0,\n",
       "        \"unexpected_percent_total\": 0.0,\n",
       "        \"unexpected_percent_nonmissing\": 0.0,\n",
       "        \"partial_unexpected_list\": []\n",
       "      },\n",
       "      \"meta\": {}\n",
       "    },\n",
       "    {\n",
       "      \"exception_info\": {\n",
       "        \"raised_exception\": false,\n",
       "        \"exception_message\": null,\n",
       "        \"exception_traceback\": null\n",
       "      },\n",
       "      \"expectation_config\": {\n",
       "        \"meta\": {},\n",
       "        \"kwargs\": {\n",
       "          \"column\": \"ProductKey\"\n",
       "        },\n",
       "        \"expectation_type\": \"expect_column_values_to_not_be_null\"\n",
       "      },\n",
       "      \"success\": true,\n",
       "      \"result\": {\n",
       "        \"element_count\": 606,\n",
       "        \"unexpected_count\": 0,\n",
       "        \"unexpected_percent\": 0.0,\n",
       "        \"unexpected_percent_total\": 0.0,\n",
       "        \"partial_unexpected_list\": []\n",
       "      },\n",
       "      \"meta\": {}\n",
       "    },\n",
       "    {\n",
       "      \"exception_info\": {\n",
       "        \"raised_exception\": false,\n",
       "        \"exception_message\": null,\n",
       "        \"exception_traceback\": null\n",
       "      },\n",
       "      \"expectation_config\": {\n",
       "        \"meta\": {},\n",
       "        \"kwargs\": {\n",
       "          \"column\": \"ProductKey\",\n",
       "          \"type_list\": [\n",
       "            \"int\",\n",
       "            \"int64\"\n",
       "          ]\n",
       "        },\n",
       "        \"expectation_type\": \"expect_column_values_to_be_in_type_list\"\n",
       "      },\n",
       "      \"success\": true,\n",
       "      \"result\": {\n",
       "        \"observed_value\": \"int64\"\n",
       "      },\n",
       "      \"meta\": {}\n",
       "    },\n",
       "    {\n",
       "      \"exception_info\": {\n",
       "        \"raised_exception\": false,\n",
       "        \"exception_message\": null,\n",
       "        \"exception_traceback\": null\n",
       "      },\n",
       "      \"expectation_config\": {\n",
       "        \"meta\": {},\n",
       "        \"kwargs\": {\n",
       "          \"column\": \"ProductLine\",\n",
       "          \"value_set\": [\n",
       "            \"R \",\n",
       "            \"S \",\n",
       "            \"M \",\n",
       "            \"T \"\n",
       "          ]\n",
       "        },\n",
       "        \"expectation_type\": \"expect_column_values_to_be_in_set\"\n",
       "      },\n",
       "      \"success\": true,\n",
       "      \"result\": {\n",
       "        \"element_count\": 606,\n",
       "        \"missing_count\": 226,\n",
       "        \"missing_percent\": 37.29372937293729,\n",
       "        \"unexpected_count\": 0,\n",
       "        \"unexpected_percent\": 0.0,\n",
       "        \"unexpected_percent_total\": 0.0,\n",
       "        \"unexpected_percent_nonmissing\": 0.0,\n",
       "        \"partial_unexpected_list\": []\n",
       "      },\n",
       "      \"meta\": {}\n",
       "    },\n",
       "    {\n",
       "      \"exception_info\": {\n",
       "        \"raised_exception\": false,\n",
       "        \"exception_message\": null,\n",
       "        \"exception_traceback\": null\n",
       "      },\n",
       "      \"expectation_config\": {\n",
       "        \"meta\": {},\n",
       "        \"kwargs\": {\n",
       "          \"column\": \"SafetyStockLevel\",\n",
       "          \"min_value\": 1,\n",
       "          \"max_value\": 1000\n",
       "        },\n",
       "        \"expectation_type\": \"expect_column_max_to_be_between\"\n",
       "      },\n",
       "      \"success\": true,\n",
       "      \"result\": {\n",
       "        \"observed_value\": 1000,\n",
       "        \"element_count\": 606,\n",
       "        \"missing_count\": null,\n",
       "        \"missing_percent\": null\n",
       "      },\n",
       "      \"meta\": {}\n",
       "    },\n",
       "    {\n",
       "      \"exception_info\": {\n",
       "        \"raised_exception\": false,\n",
       "        \"exception_message\": null,\n",
       "        \"exception_traceback\": null\n",
       "      },\n",
       "      \"expectation_config\": {\n",
       "        \"meta\": {},\n",
       "        \"kwargs\": {\n",
       "          \"column\": \"DaysToManufacture\",\n",
       "          \"min_value\": 1,\n",
       "          \"max_value\": 10\n",
       "        },\n",
       "        \"expectation_type\": \"expect_column_max_to_be_between\"\n",
       "      },\n",
       "      \"success\": true,\n",
       "      \"result\": {\n",
       "        \"observed_value\": 4,\n",
       "        \"element_count\": 606,\n",
       "        \"missing_count\": null,\n",
       "        \"missing_percent\": null\n",
       "      },\n",
       "      \"meta\": {}\n",
       "    },\n",
       "    {\n",
       "      \"exception_info\": {\n",
       "        \"raised_exception\": false,\n",
       "        \"exception_message\": null,\n",
       "        \"exception_traceback\": null\n",
       "      },\n",
       "      \"expectation_config\": {\n",
       "        \"meta\": {},\n",
       "        \"kwargs\": {\n",
       "          \"column\": \"StandardCost\",\n",
       "          \"min_value\": 100,\n",
       "          \"max_value\": 500\n",
       "        },\n",
       "        \"expectation_type\": \"expect_column_mean_to_be_between\"\n",
       "      },\n",
       "      \"success\": true,\n",
       "      \"result\": {\n",
       "        \"observed_value\": 434.26582886075965,\n",
       "        \"element_count\": 606,\n",
       "        \"missing_count\": 211,\n",
       "        \"missing_percent\": 34.81848184818482\n",
       "      },\n",
       "      \"meta\": {}\n",
       "    },\n",
       "    {\n",
       "      \"exception_info\": {\n",
       "        \"raised_exception\": false,\n",
       "        \"exception_message\": null,\n",
       "        \"exception_traceback\": null\n",
       "      },\n",
       "      \"expectation_config\": {\n",
       "        \"meta\": {},\n",
       "        \"kwargs\": {\n",
       "          \"column\": \"EnglishProductName\"\n",
       "        },\n",
       "        \"expectation_type\": \"expect_column_values_to_not_be_null\"\n",
       "      },\n",
       "      \"success\": true,\n",
       "      \"result\": {\n",
       "        \"element_count\": 606,\n",
       "        \"unexpected_count\": 0,\n",
       "        \"unexpected_percent\": 0.0,\n",
       "        \"unexpected_percent_total\": 0.0,\n",
       "        \"partial_unexpected_list\": []\n",
       "      },\n",
       "      \"meta\": {}\n",
       "    },\n",
       "    {\n",
       "      \"exception_info\": {\n",
       "        \"raised_exception\": false,\n",
       "        \"exception_message\": null,\n",
       "        \"exception_traceback\": null\n",
       "      },\n",
       "      \"expectation_config\": {\n",
       "        \"meta\": {},\n",
       "        \"kwargs\": {\n",
       "          \"column\": \"Color\",\n",
       "          \"mostly\": 0.55\n",
       "        },\n",
       "        \"expectation_type\": \"expect_column_values_to_not_be_null\"\n",
       "      },\n",
       "      \"success\": true,\n",
       "      \"result\": {\n",
       "        \"element_count\": 606,\n",
       "        \"unexpected_count\": 254,\n",
       "        \"unexpected_percent\": 41.914191419141915,\n",
       "        \"unexpected_percent_total\": 41.914191419141915,\n",
       "        \"partial_unexpected_list\": []\n",
       "      },\n",
       "      \"meta\": {}\n",
       "    }\n",
       "  ],\n",
       "  \"evaluation_parameters\": {},\n",
       "  \"meta\": {\n",
       "    \"great_expectations_version\": \"0.15.41\",\n",
       "    \"expectation_suite_name\": \"default\",\n",
       "    \"run_id\": {\n",
       "      \"run_name\": null,\n",
       "      \"run_time\": \"2023-04-13T17:46:56.025246+00:00\"\n",
       "    },\n",
       "    \"batch_kwargs\": {\n",
       "      \"ge_batch_id\": \"28ec0655-da23-11ed-95d8-78af088c5e37\"\n",
       "    },\n",
       "    \"batch_markers\": {},\n",
       "    \"batch_parameters\": {},\n",
       "    \"validation_time\": \"20230413T174656.025246Z\",\n",
       "    \"expectation_suite_meta\": {\n",
       "      \"great_expectations_version\": \"0.15.41\"\n",
       "    }\n",
       "  },\n",
       "  \"statistics\": {\n",
       "    \"evaluated_expectations\": 10,\n",
       "    \"successful_expectations\": 10,\n",
       "    \"unsuccessful_expectations\": 0,\n",
       "    \"success_percent\": 100.0\n",
       "  }\n",
       "}"
      ]
     },
     "execution_count": 23,
     "metadata": {},
     "output_type": "execute_result"
    }
   ],
   "source": [
    "df2.validate(expectation_suite=config)"
   ]
  },
  {
   "cell_type": "markdown",
   "id": "7ce69418",
   "metadata": {},
   "source": [
    "### Test with Config file"
   ]
  },
  {
   "cell_type": "code",
   "execution_count": 24,
   "id": "1472decf",
   "metadata": {},
   "outputs": [],
   "source": [
    "#\n",
    "test_results = df2.validate(expectation_suite=\"product.data.expectations.json\")"
   ]
  },
  {
   "cell_type": "code",
   "execution_count": 25,
   "id": "52a4e93b",
   "metadata": {},
   "outputs": [
    {
     "name": "stdout",
     "output_type": "stream",
     "text": [
      "Awesome. All Data Quality Tests are green!\n"
     ]
    }
   ],
   "source": [
    "# Take action based on the results\n",
    "if test_results[\"success\"]:\n",
    "    print (\"Awesome. All Data Quality Tests are green!\")\n",
    "else:\n",
    "    raise Exception(\"You've got issues.\")"
   ]
  },
  {
   "cell_type": "code",
   "execution_count": null,
   "id": "6ad77b1d",
   "metadata": {},
   "outputs": [],
   "source": []
  }
 ],
 "metadata": {
  "kernelspec": {
   "display_name": "Python 3 (ipykernel)",
   "language": "python",
   "name": "python3"
  },
  "language_info": {
   "codemirror_mode": {
    "name": "ipython",
    "version": 3
   },
   "file_extension": ".py",
   "mimetype": "text/x-python",
   "name": "python",
   "nbconvert_exporter": "python",
   "pygments_lexer": "ipython3",
   "version": "3.9.13"
  }
 },
 "nbformat": 4,
 "nbformat_minor": 5
}
